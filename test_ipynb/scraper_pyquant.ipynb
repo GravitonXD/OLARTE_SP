{
 "cells": [],
 "metadata": {
  "kernelspec": {
   "display_name": "Python 3.10.7 64-bit",
   "language": "python",
   "name": "python3"
  },
  "language_info": {
   "codemirror_mode": {
    "name": "ipython",
    "version": 3
   },
   "file_extension": ".py",
   "mimetype": "text/x-python",
   "name": "python",
   "nbconvert_exporter": "python",
   "pygments_lexer": "ipython3",
   "version": "3.10.7"
  },
  "orig_nbformat": 4,
  "vscode": {
   "interpreter": {
    "hash": "1224d32f05aa8d9d17993b21a51be44b2d1966ef541559ad6beae9001f15c664"
   }
  }
 },
 "nbformat": 4,
 "nbformat_minor": 2
}
