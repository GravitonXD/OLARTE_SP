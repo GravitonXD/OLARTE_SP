{
 "cells": [
  {
   "cell_type": "code",
   "execution_count": 3,
   "metadata": {},
   "outputs": [],
   "source": [
    "import fastquant as fq\n",
    "import datetime\n"
   ]
  },
  {
   "cell_type": "code",
   "execution_count": 4,
   "metadata": {},
   "outputs": [
    {
     "name": "stdout",
     "output_type": "stream",
     "text": [
      "[*********************100%***********************]  1 of 1 completed\n",
      "\n",
      "1 Failed download:\n",
      "- PSE: No data found for this date range, symbol may be delisted\n"
     ]
    }
   ],
   "source": [
    "end_date = datetime.datetime.now().strftime(\"%Y-%m-%d\")\n",
    "start_date = (datetime.datetime.strptime(end_date, \"%Y-%m-%d\") - datetime.timedelta(days=200)).strftime(\"%Y-%m-%d\")\n",
    "\n",
    "test = fq.get_stock_data(\"PSE\", start_date, end_date)"
   ]
  }
 ],
 "metadata": {
  "kernelspec": {
   "display_name": "Python 3.10.7 64-bit",
   "language": "python",
   "name": "python3"
  },
  "language_info": {
   "codemirror_mode": {
    "name": "ipython",
    "version": 3
   },
   "file_extension": ".py",
   "mimetype": "text/x-python",
   "name": "python",
   "nbconvert_exporter": "python",
   "pygments_lexer": "ipython3",
   "version": "3.10.7"
  },
  "orig_nbformat": 4,
  "vscode": {
   "interpreter": {
    "hash": "1224d32f05aa8d9d17993b21a51be44b2d1966ef541559ad6beae9001f15c664"
   }
  }
 },
 "nbformat": 4,
 "nbformat_minor": 2
}
