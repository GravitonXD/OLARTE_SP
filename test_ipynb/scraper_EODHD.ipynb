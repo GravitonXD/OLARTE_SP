{
 "cells": [
  {
   "cell_type": "code",
   "execution_count": 1,
   "metadata": {},
   "outputs": [],
   "source": [
    "from eodhd import APIClient"
   ]
  },
  {
   "cell_type": "markdown",
   "metadata": {},
   "source": [
    "api = APIClient(\"63383c55a0e047.85276525\")"
   ]
  },
  {
   "cell_type": "code",
   "execution_count": 2,
   "metadata": {},
   "outputs": [],
   "source": [
    "import requests\n",
    "import pandas as pd\n",
    "import numpy as np\n",
    "import datetime\n",
    "import os"
   ]
  },
  {
   "cell_type": "code",
   "execution_count": 3,
   "metadata": {},
   "outputs": [],
   "source": [
    "# API KEY (Store this in as an environment variable)\n",
    "api_key = \"63383c55a0e047.85276525\"\n",
    "\n",
    "# List of test tickers\n",
    "tickers = [\"PSE\", \"DITO\", \"BDO\", \"JFC\"]"
   ]
  },
  {
   "cell_type": "markdown",
   "metadata": {},
   "source": [
    "USE THE tickers below for the prototyping\n",
    "13 Tickers based on top 13 PH stocks for 2021\n",
    "reference:: https://dailypik.com/best-blue-chip-stocks-in-the-philippines/ (date: October 02, 2022)\n",
    "\n",
    "tickers = [\n",
    "    \"AC\", \n",
    "    \"ALI\", \n",
    "    \"AP\", \n",
    "    \"BDO\", \n",
    "    \"BPI\", \n",
    "    \"ICT\", \n",
    "    \"JFC\", \n",
    "    \"MBT\", \n",
    "    \"MPI\", \n",
    "    \"SM\", \n",
    "    \"SMPH\", \n",
    "    \"TEL\", \n",
    "    \"URC\"\n",
    "]"
   ]
  },
  {
   "cell_type": "code",
   "execution_count": 5,
   "metadata": {},
   "outputs": [
    {
     "name": "stdout",
     "output_type": "stream",
     "text": [
      "PSE.csv already exists. Appending data...\n",
      "\n",
      "Last date in PSE.csv: 2022-09-30\n",
      "\n",
      "Appending Empty DataFrame\n",
      "Columns: [Date, Open, High, Low, Close, Adjusted_close, Volume]\n",
      "Index: [] to PSE.csv...\n",
      "\n",
      "No new data to append to PSE.csv.\n",
      "\n",
      "DITO.csv already exists. Appending data...\n",
      "\n",
      "Last date in DITO.csv: 2022-09-30\n",
      "\n",
      "Appending Empty DataFrame\n",
      "Columns: [Date, Open, High, Low, Close, Adjusted_close, Volume]\n",
      "Index: [] to DITO.csv...\n",
      "\n",
      "No new data to append to DITO.csv.\n",
      "\n",
      "BDO.csv already exists. Appending data...\n",
      "\n",
      "Last date in BDO.csv: 2022-09-30\n",
      "\n",
      "Appending Empty DataFrame\n",
      "Columns: [Date, Open, High, Low, Close, Adjusted_close, Volume]\n",
      "Index: [] to BDO.csv...\n",
      "\n",
      "No new data to append to BDO.csv.\n",
      "\n",
      "JFC.csv already exists. Appending data...\n",
      "\n",
      "Last date in JFC.csv: 2022-09-30\n",
      "\n",
      "Appending Empty DataFrame\n",
      "Columns: [Date, Open, High, Low, Close, Adjusted_close, Volume]\n",
      "Index: [] to JFC.csv...\n",
      "\n",
      "No new data to append to JFC.csv.\n",
      "\n"
     ]
    }
   ],
   "source": [
    "# LOOP THROUGH TICKERS\n",
    "for ticker in tickers:\n",
    "    url = f\"https://eodhistoricaldata.com/api/eod/{ticker}.PSE?api_token={api_key}&period=d\"\n",
    "    # Open the url using get and store the response\n",
    "    response = requests.get(url)\n",
    "\n",
    "    file_name = f\"{ticker}.csv\"\n",
    "    \n",
    "    # Check if the file already exists\n",
    "    if not os.path.exists(file_name):\n",
    "        print(f\"{file_name} does not exist. Creating file...\\n\")\n",
    "        # If it doesn't exist, create a new file and write the header\n",
    "        with open(file_name, \"wb\") as f:\n",
    "            f.write(response.content)\n",
    "        f.close()\n",
    "        print(f\"{file_name} created.\\n\")\n",
    "    # If the file already exists\n",
    "    else:\n",
    "        print(f\"{file_name} already exists. Appending data...\\n\")\n",
    "        # Check the last date in the file\n",
    "        df = pd.read_csv(file_name)\n",
    "        last_date = df[\"Date\"].iloc[-1]\n",
    "        print(f\"Last date in {file_name}: {last_date}\\n\")\n",
    "\n",
    "        # Convert the last date to datetime\n",
    "        last_date = datetime.datetime.strptime(last_date, \"%Y-%m-%d\")\n",
    "\n",
    "        # From the response only get the data after the last date\n",
    "        df = pd.read_csv(url)\n",
    "        df = df[df[\"Date\"] > last_date.strftime(\"%Y-%m-%d\")]\n",
    "        print(f\"Appending {df} to {file_name}...\\n\")\n",
    "\n",
    "        # Check if there is data to append is not empty\n",
    "        if not df.empty:\n",
    "            # Append the new data to the file\n",
    "            with open(file_name, \"ab\") as f:\n",
    "                df.to_csv(f, header=False, index=False)\n",
    "            # close the file\n",
    "            f.close()\n",
    "            print(f\"{file_name} appended.\\n\")\n",
    "        else:\n",
    "            print(f\"No new data to append to {file_name}.\\n\")"
   ]
  }
 ],
 "metadata": {
  "kernelspec": {
   "display_name": "Python 3.10.7 64-bit",
   "language": "python",
   "name": "python3"
  },
  "language_info": {
   "codemirror_mode": {
    "name": "ipython",
    "version": 3
   },
   "file_extension": ".py",
   "mimetype": "text/x-python",
   "name": "python",
   "nbconvert_exporter": "python",
   "pygments_lexer": "ipython3",
   "version": "3.10.7"
  },
  "orig_nbformat": 4,
  "vscode": {
   "interpreter": {
    "hash": "1224d32f05aa8d9d17993b21a51be44b2d1966ef541559ad6beae9001f15c664"
   }
  }
 },
 "nbformat": 4,
 "nbformat_minor": 2
}
