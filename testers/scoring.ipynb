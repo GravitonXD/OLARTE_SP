{
 "cells": [
  {
   "cell_type": "code",
   "execution_count": 18,
   "metadata": {},
   "outputs": [
    {
     "name": "stdout",
     "output_type": "stream",
     "text": [
      "3\n"
     ]
    }
   ],
   "source": [
    "score = 0\n",
    "minimum_score = 0.1 # 10% increase per last closing\n",
    "last = 100\n",
    "predicted_closings = [199, 199, 199, 199, 101]\n",
    "for i in predicted_closings:\n",
    "    # Calculat the percentage increease from last actual closing\n",
    "    diff = (i- last) / last\n",
    "    if diff > minimum_score:\n",
    "        score += 1\n",
    "    else:\n",
    "        score -= 1\n",
    "print(score)"
   ]
  },
  {
   "cell_type": "code",
   "execution_count": 19,
   "metadata": {},
   "outputs": [],
   "source": [
    "test_tuple = (1, [1, 2, 3, 4, 5])"
   ]
  },
  {
   "cell_type": "code",
   "execution_count": 21,
   "metadata": {},
   "outputs": [
    {
     "data": {
      "text/plain": [
       "1"
      ]
     },
     "execution_count": 21,
     "metadata": {},
     "output_type": "execute_result"
    }
   ],
   "source": [
    "test_tuple[0]"
   ]
  },
  {
   "cell_type": "code",
   "execution_count": 24,
   "metadata": {},
   "outputs": [
    {
     "data": {
      "text/plain": [
       "{'test': (1, [1, 2, 3, 4, 5]), 'test2': (1, [1, 2, 3, 4, 5])}"
      ]
     },
     "execution_count": 24,
     "metadata": {},
     "output_type": "execute_result"
    }
   ],
   "source": [
    "sample = {}\n",
    "sample[\"test\"] = test_tuple\n",
    "sample\n",
    "sample[\"test2\"] = test_tuple\n",
    "sample"
   ]
  }
 ],
 "metadata": {
  "kernelspec": {
   "display_name": "Python 3",
   "language": "python",
   "name": "python3"
  },
  "language_info": {
   "codemirror_mode": {
    "name": "ipython",
    "version": 3
   },
   "file_extension": ".py",
   "mimetype": "text/x-python",
   "name": "python",
   "nbconvert_exporter": "python",
   "pygments_lexer": "ipython3",
   "version": "3.11.0"
  },
  "orig_nbformat": 4,
  "vscode": {
   "interpreter": {
    "hash": "bce94cf5ba4e91c139e25acaf699abf418036a78723bf02e000e119123230ea1"
   }
  }
 },
 "nbformat": 4,
 "nbformat_minor": 2
}
