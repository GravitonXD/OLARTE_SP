{
 "cells": [
  {
   "cell_type": "code",
   "execution_count": 1,
   "metadata": {},
   "outputs": [],
   "source": [
    "import joblib\n",
    "\n",
    "def load_model(model_name: str, path=\"./\"):\n",
    "    model_path = f\"{path}{model_name}.joblib\"\n",
    "    loaded_model = joblib.load(model_path)\n",
    "    return loaded_model"
   ]
  },
  {
   "cell_type": "code",
   "execution_count": 2,
   "metadata": {},
   "outputs": [],
   "source": [
    "load_model = load_model(\"sample_model\")"
   ]
  },
  {
   "cell_type": "code",
   "execution_count": 30,
   "metadata": {},
   "outputs": [],
   "source": [
    "import numpy as np\n",
    "def process_data(loaded_model, predict_len=5):\n",
    "    # Iterate through the 20 stock data files from /data/db/stock_data/{stock_symbol}.csv\n",
    "    stock_symbols = [\"FGEN\", \"GLO\", \"ICT\"]\n",
    "\n",
    "    # Initialize the dictionary that will hold the processed data\n",
    "    # key = stock symbol\n",
    "    # value = (last actual cloaing, list of predictions with length=predict_len)\n",
    "    processed_data = {stock:[] for stock in stock_symbols}\n",
    "\n",
    "    # Iterate through the stock symbols\n",
    "    for stock in stock_symbols:\n",
    "        predicted_closings = []\n",
    "        # Only get the closing price, which is at the 4th index\n",
    "        closing_prices = np.array([])\n",
    "        with open (f\"./stock_data/{stock}.csv\", \"r\") as f:\n",
    "            for line in f:\n",
    "                try:\n",
    "                    closing_prices = np.append(closing_prices, float(line.split(\",\")[4]))\n",
    "                except ValueError:\n",
    "                    pass\n",
    "        last_actual = closing_prices[-1]\n",
    "\n",
    "        print(f\"Closing prices for {stock}: {closing_prices}\")\n",
    "        # From stock_data, use the loaded model to predict a len=predict_len number of predictions\n",
    "        for _ in range(predict_len):\n",
    "            print(f\"Predicting closing price for {stock}...\")\n",
    "            predicted_closing = loaded_model.predict(closing_prices.reshape(-1, 1))\n",
    "            print(f\"Predicted closing price for {stock}: {predicted_closing[-1]}\")\n",
    "            predicted_closings.append(predicted_closing[-1])\n",
    "            print(f\"Appending predicted closing price for {stock} to closing_prices...\")\n",
    "            closing_prices = np.append(closing_prices, predicted_closing)\n",
    "        # Append the tiple of last actual closing , and list of predictions \n",
    "        #   to the processed_data dictionary\n",
    "        processed_data[stock] = tuple((last_actual, predicted_closings))\n",
    "    \n",
    "    return processed_data"
   ]
  },
  {
   "cell_type": "code",
   "execution_count": 31,
   "metadata": {},
   "outputs": [
    {
     "name": "stdout",
     "output_type": "stream",
     "text": [
      "Closing prices for FGEN: [27.65 28.25 28.15 28.05 28.1  27.75 27.9  27.75 27.2  27.15 27.2  28.\n",
      " 27.7  28.   27.95 27.75 27.95 27.5  27.5  27.45 27.2  27.   27.   27.05\n",
      " 27.05 26.6  26.4  26.25 26.25 27.   27.15 27.9  27.45 27.4  27.35 27.4\n",
      " 26.05 26.7  26.15 26.6  26.2  25.   24.65 26.75 26.8  26.   25.   24.25\n",
      " 24.55 24.85 25.6  25.95 26.35 26.   26.4  25.95 26.1  26.35 26.3  25.9\n",
      " 25.2  25.2  24.85 24.9  25.1  25.2  25.15 25.2  25.3  25.   25.   24.1\n",
      " 23.9  23.3  23.2  23.3  23.5  23.8  22.6  22.5  20.65 20.1  20.   20.\n",
      " 19.34 20.45 20.3  19.7  20.   19.3  19.2  19.   19.2  19.2  18.36 19.\n",
      " 18.8  19.   18.8  18.9  18.   17.8  17.38 16.56 16.8  16.52 17.   17.\n",
      " 16.98 16.96 17.16 16.96 16.8  17.   16.9  17.   17.04 17.2  17.84 17.6\n",
      " 17.2  17.2  17.44 17.1  16.64 15.72 16.42 16.98 16.78 17.   17.2  17.08\n",
      " 17.42 17.2  17.52 17.22 17.24 17.2  17.5  17.22 17.02 17.5  17.1  17.\n",
      " 17.6  18.   19.34 19.62 19.4  19.4  19.6  19.8  19.24 19.14 18.9  18.58\n",
      " 18.74 18.5  17.74 18.   18.02 17.3  17.5  17.52 17.6  17.6  17.82 17.28\n",
      " 17.02 17.6  17.28 17.5  17.   16.4  16.24 16.4  16.1  16.38 16.28 16.02\n",
      " 16.44 16.3  16.2  16.26 15.86 15.58 15.54 15.52 15.6  15.6  15.8  16.12\n",
      " 15.12 15.6  15.84 15.86 15.7  15.6  15.56 15.5  15.4  15.36 15.36 15.34\n",
      " 15.3  15.26 15.2  15.02 15.4  15.7  16.08 16.4  16.2  15.9  15.9  15.9\n",
      " 15.96 16.4  16.6  16.88 16.88 17.22 17.16 16.86 16.24 16.34 16.74 16.4\n",
      " 16.36 16.5  16.48 16.3  16.3  16.38 16.3  16.38 16.7  16.94 16.68 17.3\n",
      " 17.26 17.18 17.36 17.84 17.9  17.88]\n",
      "Predicting closing price for FGEN...\n",
      "Predicted closing price for FGEN: 45.380887005822935\n",
      "Appending predicted closing price for FGEN to closing_prices...\n",
      "Predicting closing price for FGEN...\n",
      "Predicted closing price for FGEN: 45.99117262550731\n",
      "Appending predicted closing price for FGEN to closing_prices...\n",
      "Predicting closing price for FGEN...\n",
      "Predicted closing price for FGEN: 45.24789842999049\n",
      "Appending predicted closing price for FGEN to closing_prices...\n",
      "Predicting closing price for FGEN...\n",
      "Predicted closing price for FGEN: 45.7028253518827\n",
      "Appending predicted closing price for FGEN to closing_prices...\n",
      "Predicting closing price for FGEN...\n",
      "Predicted closing price for FGEN: 45.826566777867306\n",
      "Appending predicted closing price for FGEN to closing_prices...\n",
      "Closing prices for GLO: [3396.     3330.     3296.     3280.     3354.     3360.     3360.\n",
      " 3318.     3260.     3234.     3220.     3260.     3240.     3110.\n",
      " 3170.     3112.     3180.     3112.     3054.     3032.     2818.\n",
      " 2690.     2784.     2720.     2790.     2788.     2700.     2700.\n",
      " 2660.     2702.     2698.     2568.     2586.     2576.     2560.\n",
      " 2570.     2540.     2460.     2490.     2572.     2518.     2350.\n",
      " 2240.     2280.     2342.     2254.     2344.     2388.     2408.\n",
      " 2560.     2638.     2622.     2580.     2580.     2540.     2520.\n",
      " 2498.     2420.     2432.     2354.     2480.     2470.     2420.\n",
      " 2448.     2424.     2472.     2536.     2514.     2430.     2438.\n",
      " 2446.     2348.     2420.     2270.     2222.     2388.     2464.\n",
      " 2370.     2388.     2338.     2200.     2280.     2408.     2458.\n",
      " 2498.     2506.     2550.     2530.     2544.     2560.     2524.\n",
      " 2588.     2428.     2404.     2350.     2328.     2364.     2394.\n",
      " 2444.     2400.     2364.     2328.     2298.     2266.     2240.\n",
      " 2220.     2092.     2100.     2100.     2080.     2150.     2160.\n",
      " 2280.     2280.     2268.     2180.     2200.     2226.     2240.\n",
      " 2240.     2294.     2276.     2252.     2250.     2294.     2270.\n",
      " 2252.     2242.     2246.     2208.     2190.     2130.     2128.\n",
      " 2100.     2070.     2062.     2020.     2056.     2070.     2060.\n",
      " 2010.     2070.     2032.     2050.     2190.     2240.     2320.\n",
      " 2294.     2332.     2366.     2360.     2300.     2300.     2264.\n",
      " 2268.     2220.     2200.     2098.     2140.     2194.     2184.\n",
      " 2168.     2146.     2124.     2090.     2095.7907 2105.6301 2135.1483\n",
      " 2143.0198 2118.     2140.     2180.     2130.     2142.     2174.\n",
      " 2178.     2110.     2084.     2030.     1998.     2150.     2218.\n",
      " 2200.     2160.     2170.     2230.     2220.     2170.     2200.\n",
      " 2200.     2306.     2400.     2478.     2330.     2296.     2338.\n",
      " 2310.     2320.     2322.     2230.     2260.     2300.     2304.\n",
      " 2270.     2298.     2292.     2300.     2212.     2230.     2222.\n",
      " 2222.     2214.     2224.     2222.     2210.     2210.     2240.\n",
      " 2284.     2300.     2350.     2280.     2190.     2202.     2182.\n",
      " 2160.     2150.     2158.     2224.     2196.     2070.     2150.\n",
      " 2180.     2210.     2198.     2194.     2168.     2236.     2180.\n",
      " 2220.     2218.     2164.     2126.     2132.     2114.     2060.\n",
      " 2060.    ]\n",
      "Predicting closing price for GLO...\n",
      "Predicted closing price for GLO: 45.24712085502283\n",
      "Appending predicted closing price for GLO to closing_prices...\n",
      "Predicting closing price for GLO...\n",
      "Predicted closing price for GLO: 45.70078002094954\n",
      "Appending predicted closing price for GLO to closing_prices...\n",
      "Predicting closing price for GLO...\n",
      "Predicted closing price for GLO: 45.831371515233286\n",
      "Appending predicted closing price for GLO to closing_prices...\n",
      "Predicting closing price for GLO...\n",
      "Predicted closing price for GLO: 45.493715541334026\n",
      "Appending predicted closing price for GLO to closing_prices...\n",
      "Predicting closing price for GLO...\n",
      "Predicted closing price for GLO: 46.08278231387291\n",
      "Appending predicted closing price for GLO to closing_prices...\n",
      "Closing prices for ICT: [195.7 203.  198.5 203.  211.4 204.4 200.2 199.9 201.  202.  204.  204.6\n",
      " 197.5 200.  200.2 203.  202.  204.4 216.  221.  219.  206.  208.6 216.\n",
      " 217.8 215.6 217.  212.  220.  216.  210.  210.6 218.  218.  228.  226.2\n",
      " 229.  219.  225.  233.  226.  212.  220.  218.  224.8 224.8 220.2 227.8\n",
      " 220.4 222.  224.  218.  216.  222.  224.8 226.6 224.8 226.  222.  218.\n",
      " 225.  223.  218.6 220.4 223.6 224.8 231.  222.2 225.  226.2 223.  218.6\n",
      " 220.  215.6 215.  211.  220.2 219.8 218.  214.8 206.  207.6 203.  217.8\n",
      " 211.4 210.2 210.  213.8 210.6 220.  222.8 218.  217.  210.2 215.8 215.\n",
      " 215.4 214.  211.  203.  202.  200.  195.  190.  186.4 194.9 199.4 195.1\n",
      " 186.7 180.  185.  188.  195.  195.9 184.  191.  183.8 186.  194.3 186.2\n",
      " 185.  189.4 184.  182.8 186.5 179.4 178.  186.  182.  181.  182.7 180.5\n",
      " 184.2 185.  189.7 194.2 183.9 188.  185.  187.9 184.6 184.  181.  178.\n",
      " 184.  185.4 184.6 188.  186.  186.  187.  184.8 184.2 185.  188.  186.5\n",
      " 184.  181.2 182.9 183.  183.  182.  181.6 182.1 184.3 190.  187.2 185.7\n",
      " 185.  182.  182.  183.8 181.  181.  181.9 181.  181.5 174.3 156.6 162.8\n",
      " 165.  171.1 176.  177.6 177.5 178.  175.  178.  169.8 172.  176.6 173.4\n",
      " 175.  172.  174.5 165.9 171.7 177.5 173.  162.5 172.  177.8 190.  186.8\n",
      " 180.  176.7 178.2 181.  183.8 187.5 184.2 188.  190.  186.  186.  184.5\n",
      " 185.8 198.9 205.  196.8 193.5 184.3 188.4 190.  203.  201.  207.  207.\n",
      " 204.  205.  196.  204.  195.9 198.  204.  200.  198.  200.  198.  197.5\n",
      " 198.7 196.  198.  203.  200.  203. ]\n",
      "Predicting closing price for ICT...\n",
      "Predicted closing price for ICT: 45.24712085502283\n",
      "Appending predicted closing price for ICT to closing_prices...\n",
      "Predicting closing price for ICT...\n",
      "Predicted closing price for ICT: 45.70078002094954\n",
      "Appending predicted closing price for ICT to closing_prices...\n",
      "Predicting closing price for ICT...\n",
      "Predicted closing price for ICT: 45.831371515233286\n",
      "Appending predicted closing price for ICT to closing_prices...\n",
      "Predicting closing price for ICT...\n",
      "Predicted closing price for ICT: 45.493715541334026\n",
      "Appending predicted closing price for ICT to closing_prices...\n",
      "Predicting closing price for ICT...\n",
      "Predicted closing price for ICT: 46.08278231387291\n",
      "Appending predicted closing price for ICT to closing_prices...\n"
     ]
    }
   ],
   "source": [
    "processed_data = process_data(load_model)"
   ]
  },
  {
   "cell_type": "code",
   "execution_count": 32,
   "metadata": {},
   "outputs": [
    {
     "data": {
      "text/plain": [
       "{'FGEN': (17.88,\n",
       "  [45.380887005822935,\n",
       "   45.99117262550731,\n",
       "   45.24789842999049,\n",
       "   45.7028253518827,\n",
       "   45.826566777867306]),\n",
       " 'GLO': (2060.0,\n",
       "  [45.24712085502283,\n",
       "   45.70078002094954,\n",
       "   45.831371515233286,\n",
       "   45.493715541334026,\n",
       "   46.08278231387291]),\n",
       " 'ICT': (203.0,\n",
       "  [45.24712085502283,\n",
       "   45.70078002094954,\n",
       "   45.831371515233286,\n",
       "   45.493715541334026,\n",
       "   46.08278231387291])}"
      ]
     },
     "execution_count": 32,
     "metadata": {},
     "output_type": "execute_result"
    }
   ],
   "source": [
    "processed_data"
   ]
  },
  {
   "cell_type": "code",
   "execution_count": 33,
   "metadata": {},
   "outputs": [],
   "source": [
    "def post_processing(processed_data, minimum_score=0.1):\n",
    "    stock_symbols = [\"FGEN\", \"GLO\", \"ICT\"]\n",
    "\n",
    "    # Dictionary containing the last acutaul closing price of each stock\n",
    "    last_actual_closing = {stock:processed_data[stock][0] for stock in stock_symbols}\n",
    "    \n",
    "    # Initialize the dictionaries for the stocks to buy and stocks to sell\n",
    "    stocks_to_buy = {}\n",
    "    stocks_to_sell = {}\n",
    "\n",
    "    # Iterate through the processed data\n",
    "    for stock in stock_symbols:\n",
    "        predictions = processed_data[stock][1]\n",
    "        # Calculate the percentile increase form last actual closing to the last prediction\n",
    "        #   and add it to the stocks_to_buy or stocks_to_sell dictionary\n",
    "        #   depending on the value of the percentile increase\n",
    "        percentile_increase = (predictions[-1] - last_actual_closing[stock]) / last_actual_closing[stock]\n",
    "        if percentile_increase > minimum_score:\n",
    "            stocks_to_buy[stock] = processed_data[stock]\n",
    "        else:\n",
    "            stocks_to_sell[stock] = processed_data[stock]\n",
    "    \n",
    "    return stocks_to_buy, stocks_to_sell"
   ]
  },
  {
   "cell_type": "code",
   "execution_count": 34,
   "metadata": {},
   "outputs": [],
   "source": [
    "stocks_to_buy, stocks_to_sell = post_processing(processed_data)"
   ]
  },
  {
   "cell_type": "code",
   "execution_count": 35,
   "metadata": {},
   "outputs": [
    {
     "data": {
      "text/plain": [
       "{'FGEN': (17.88,\n",
       "  [45.380887005822935,\n",
       "   45.99117262550731,\n",
       "   45.24789842999049,\n",
       "   45.7028253518827,\n",
       "   45.826566777867306])}"
      ]
     },
     "execution_count": 35,
     "metadata": {},
     "output_type": "execute_result"
    }
   ],
   "source": [
    "stocks_to_buy"
   ]
  },
  {
   "cell_type": "code",
   "execution_count": 36,
   "metadata": {},
   "outputs": [
    {
     "data": {
      "text/plain": [
       "{'GLO': (2060.0,\n",
       "  [45.24712085502283,\n",
       "   45.70078002094954,\n",
       "   45.831371515233286,\n",
       "   45.493715541334026,\n",
       "   46.08278231387291]),\n",
       " 'ICT': (203.0,\n",
       "  [45.24712085502283,\n",
       "   45.70078002094954,\n",
       "   45.831371515233286,\n",
       "   45.493715541334026,\n",
       "   46.08278231387291])}"
      ]
     },
     "execution_count": 36,
     "metadata": {},
     "output_type": "execute_result"
    }
   ],
   "source": [
    "stocks_to_sell"
   ]
  }
 ],
 "metadata": {
  "kernelspec": {
   "display_name": "Python 3",
   "language": "python",
   "name": "python3"
  },
  "language_info": {
   "codemirror_mode": {
    "name": "ipython",
    "version": 3
   },
   "file_extension": ".py",
   "mimetype": "text/x-python",
   "name": "python",
   "nbconvert_exporter": "python",
   "pygments_lexer": "ipython3",
   "version": "3.11.0"
  },
  "orig_nbformat": 4,
  "vscode": {
   "interpreter": {
    "hash": "bce94cf5ba4e91c139e25acaf699abf418036a78723bf02e000e119123230ea1"
   }
  }
 },
 "nbformat": 4,
 "nbformat_minor": 2
}
