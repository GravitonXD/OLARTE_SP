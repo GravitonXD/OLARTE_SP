{
 "cells": [
  {
   "cell_type": "code",
   "execution_count": 1,
   "metadata": {},
   "outputs": [],
   "source": [
    "import pandas as pd"
   ]
  },
  {
   "cell_type": "code",
   "execution_count": 2,
   "metadata": {},
   "outputs": [],
   "source": [
    "# Open summary.csv\n",
    "df = pd.read_csv('summary.csv')"
   ]
  },
  {
   "cell_type": "code",
   "execution_count": 3,
   "metadata": {},
   "outputs": [
    {
     "data": {
      "text/html": [
       "<div>\n",
       "<style scoped>\n",
       "    .dataframe tbody tr th:only-of-type {\n",
       "        vertical-align: middle;\n",
       "    }\n",
       "\n",
       "    .dataframe tbody tr th {\n",
       "        vertical-align: top;\n",
       "    }\n",
       "\n",
       "    .dataframe thead th {\n",
       "        text-align: right;\n",
       "    }\n",
       "</style>\n",
       "<table border=\"1\" class=\"dataframe\">\n",
       "  <thead>\n",
       "    <tr style=\"text-align: right;\">\n",
       "      <th></th>\n",
       "      <th>B10</th>\n",
       "      <th>B100</th>\n",
       "      <th>B1000</th>\n",
       "      <th>S10</th>\n",
       "      <th>S100</th>\n",
       "      <th>S1000</th>\n",
       "    </tr>\n",
       "  </thead>\n",
       "  <tbody>\n",
       "    <tr>\n",
       "      <th>count</th>\n",
       "      <td>30.000000</td>\n",
       "      <td>30.000000</td>\n",
       "      <td>30.000000</td>\n",
       "      <td>30.000000</td>\n",
       "      <td>30.000000</td>\n",
       "      <td>30.000000</td>\n",
       "    </tr>\n",
       "    <tr>\n",
       "      <th>mean</th>\n",
       "      <td>11.905222</td>\n",
       "      <td>139.618550</td>\n",
       "      <td>1159.773569</td>\n",
       "      <td>13.384126</td>\n",
       "      <td>130.119867</td>\n",
       "      <td>1642.995011</td>\n",
       "    </tr>\n",
       "    <tr>\n",
       "      <th>std</th>\n",
       "      <td>1.576654</td>\n",
       "      <td>10.413811</td>\n",
       "      <td>110.615307</td>\n",
       "      <td>3.593003</td>\n",
       "      <td>34.459012</td>\n",
       "      <td>48.796352</td>\n",
       "    </tr>\n",
       "    <tr>\n",
       "      <th>min</th>\n",
       "      <td>9.341147</td>\n",
       "      <td>122.545676</td>\n",
       "      <td>1089.788335</td>\n",
       "      <td>8.031553</td>\n",
       "      <td>89.133126</td>\n",
       "      <td>1580.422122</td>\n",
       "    </tr>\n",
       "    <tr>\n",
       "      <th>25%</th>\n",
       "      <td>11.141828</td>\n",
       "      <td>133.700536</td>\n",
       "      <td>1102.118048</td>\n",
       "      <td>10.956549</td>\n",
       "      <td>115.147469</td>\n",
       "      <td>1616.558612</td>\n",
       "    </tr>\n",
       "    <tr>\n",
       "      <th>50%</th>\n",
       "      <td>11.713506</td>\n",
       "      <td>137.826330</td>\n",
       "      <td>1111.235949</td>\n",
       "      <td>13.046124</td>\n",
       "      <td>118.194993</td>\n",
       "      <td>1626.950442</td>\n",
       "    </tr>\n",
       "    <tr>\n",
       "      <th>75%</th>\n",
       "      <td>12.359936</td>\n",
       "      <td>143.287392</td>\n",
       "      <td>1131.189515</td>\n",
       "      <td>15.122720</td>\n",
       "      <td>123.539136</td>\n",
       "      <td>1655.596844</td>\n",
       "    </tr>\n",
       "    <tr>\n",
       "      <th>max</th>\n",
       "      <td>16.844786</td>\n",
       "      <td>162.574878</td>\n",
       "      <td>1444.602703</td>\n",
       "      <td>23.603084</td>\n",
       "      <td>212.387497</td>\n",
       "      <td>1777.352469</td>\n",
       "    </tr>\n",
       "  </tbody>\n",
       "</table>\n",
       "</div>"
      ],
      "text/plain": [
       "             B10        B100        B1000        S10        S100        S1000\n",
       "count  30.000000   30.000000    30.000000  30.000000   30.000000    30.000000\n",
       "mean   11.905222  139.618550  1159.773569  13.384126  130.119867  1642.995011\n",
       "std     1.576654   10.413811   110.615307   3.593003   34.459012    48.796352\n",
       "min     9.341147  122.545676  1089.788335   8.031553   89.133126  1580.422122\n",
       "25%    11.141828  133.700536  1102.118048  10.956549  115.147469  1616.558612\n",
       "50%    11.713506  137.826330  1111.235949  13.046124  118.194993  1626.950442\n",
       "75%    12.359936  143.287392  1131.189515  15.122720  123.539136  1655.596844\n",
       "max    16.844786  162.574878  1444.602703  23.603084  212.387497  1777.352469"
      ]
     },
     "execution_count": 3,
     "metadata": {},
     "output_type": "execute_result"
    }
   ],
   "source": [
    "df.describe()"
   ]
  },
  {
   "cell_type": "code",
   "execution_count": 5,
   "metadata": {},
   "outputs": [
    {
     "name": "stdout",
     "output_type": "stream",
     "text": [
      "1.3381812583333332\n"
     ]
    }
   ],
   "source": [
    "# Average Processing Time to Process a Request\n",
    "avg = (11.905222 / 10) + (139.618550 / 100) + (1159.773569 / 1000) + (13.384126 / 10) + (130.119867 / 100) + (1642.995011 / 1000)\n",
    "avg = avg / 6\n",
    "print(avg)"
   ]
  }
 ],
 "metadata": {
  "kernelspec": {
   "display_name": "Python 3",
   "language": "python",
   "name": "python3"
  },
  "language_info": {
   "codemirror_mode": {
    "name": "ipython",
    "version": 3
   },
   "file_extension": ".py",
   "mimetype": "text/x-python",
   "name": "python",
   "nbconvert_exporter": "python",
   "pygments_lexer": "ipython3",
   "version": "3.9.10"
  },
  "orig_nbformat": 4
 },
 "nbformat": 4,
 "nbformat_minor": 2
}
