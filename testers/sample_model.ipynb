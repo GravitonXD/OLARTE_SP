{
 "cells": [
  {
   "cell_type": "code",
   "execution_count": 1,
   "metadata": {},
   "outputs": [],
   "source": [
    "# Collect sample data\n",
    "\n",
    "import requests\n",
    "\n",
    "url = \"https://eodhistoricaldata.com/api/eod/MCD.US?api_token=demo\"\n",
    "\n",
    "data = requests.get(url)"
   ]
  },
  {
   "cell_type": "code",
   "execution_count": 2,
   "metadata": {},
   "outputs": [],
   "source": [
    "# Save the data in a CSV file\n",
    "\n",
    "with open(\"sample_data.csv\", \"w\") as f:\n",
    "    f.write(data.text)"
   ]
  },
  {
   "cell_type": "code",
   "execution_count": 3,
   "metadata": {},
   "outputs": [],
   "source": [
    "import pandas as pd\n",
    "\n",
    "df = pd.read_csv(\"sample_data.csv\")"
   ]
  },
  {
   "cell_type": "code",
   "execution_count": 4,
   "metadata": {},
   "outputs": [
    {
     "data": {
      "text/html": [
       "<div>\n",
       "<style scoped>\n",
       "    .dataframe tbody tr th:only-of-type {\n",
       "        vertical-align: middle;\n",
       "    }\n",
       "\n",
       "    .dataframe tbody tr th {\n",
       "        vertical-align: top;\n",
       "    }\n",
       "\n",
       "    .dataframe thead th {\n",
       "        text-align: right;\n",
       "    }\n",
       "</style>\n",
       "<table border=\"1\" class=\"dataframe\">\n",
       "  <thead>\n",
       "    <tr style=\"text-align: right;\">\n",
       "      <th></th>\n",
       "      <th>Date</th>\n",
       "      <th>Open</th>\n",
       "      <th>High</th>\n",
       "      <th>Low</th>\n",
       "      <th>Close</th>\n",
       "      <th>Adjusted_close</th>\n",
       "      <th>Volume</th>\n",
       "    </tr>\n",
       "  </thead>\n",
       "  <tbody>\n",
       "    <tr>\n",
       "      <th>0</th>\n",
       "      <td>1966-07-05</td>\n",
       "      <td>10.9176</td>\n",
       "      <td>11.0872</td>\n",
       "      <td>10.8360</td>\n",
       "      <td>10.9176</td>\n",
       "      <td>0.1334</td>\n",
       "      <td>388800</td>\n",
       "    </tr>\n",
       "    <tr>\n",
       "      <th>1</th>\n",
       "      <td>1966-07-06</td>\n",
       "      <td>11.5024</td>\n",
       "      <td>11.5024</td>\n",
       "      <td>10.8360</td>\n",
       "      <td>11.5024</td>\n",
       "      <td>0.1406</td>\n",
       "      <td>692550</td>\n",
       "    </tr>\n",
       "    <tr>\n",
       "      <th>2</th>\n",
       "      <td>1966-07-07</td>\n",
       "      <td>11.0872</td>\n",
       "      <td>11.7936</td>\n",
       "      <td>11.0008</td>\n",
       "      <td>11.0872</td>\n",
       "      <td>0.1355</td>\n",
       "      <td>1858950</td>\n",
       "    </tr>\n",
       "    <tr>\n",
       "      <th>3</th>\n",
       "      <td>1966-07-08</td>\n",
       "      <td>11.2096</td>\n",
       "      <td>11.2096</td>\n",
       "      <td>10.8360</td>\n",
       "      <td>11.2096</td>\n",
       "      <td>0.1370</td>\n",
       "      <td>1239300</td>\n",
       "    </tr>\n",
       "    <tr>\n",
       "      <th>4</th>\n",
       "      <td>1966-07-11</td>\n",
       "      <td>11.1672</td>\n",
       "      <td>11.5024</td>\n",
       "      <td>11.0416</td>\n",
       "      <td>11.1672</td>\n",
       "      <td>0.1365</td>\n",
       "      <td>656100</td>\n",
       "    </tr>\n",
       "    <tr>\n",
       "      <th>...</th>\n",
       "      <td>...</td>\n",
       "      <td>...</td>\n",
       "      <td>...</td>\n",
       "      <td>...</td>\n",
       "      <td>...</td>\n",
       "      <td>...</td>\n",
       "      <td>...</td>\n",
       "    </tr>\n",
       "    <tr>\n",
       "      <th>14220</th>\n",
       "      <td>2022-12-30</td>\n",
       "      <td>265.2000</td>\n",
       "      <td>265.3800</td>\n",
       "      <td>261.4000</td>\n",
       "      <td>263.5300</td>\n",
       "      <td>263.5300</td>\n",
       "      <td>1720100</td>\n",
       "    </tr>\n",
       "    <tr>\n",
       "      <th>14221</th>\n",
       "      <td>2023-01-03</td>\n",
       "      <td>263.5300</td>\n",
       "      <td>264.3500</td>\n",
       "      <td>259.5100</td>\n",
       "      <td>264.3300</td>\n",
       "      <td>264.3300</td>\n",
       "      <td>2743800</td>\n",
       "    </tr>\n",
       "    <tr>\n",
       "      <th>14222</th>\n",
       "      <td>2023-01-04</td>\n",
       "      <td>266.2500</td>\n",
       "      <td>266.5500</td>\n",
       "      <td>262.8900</td>\n",
       "      <td>264.3900</td>\n",
       "      <td>264.3900</td>\n",
       "      <td>2584100</td>\n",
       "    </tr>\n",
       "    <tr>\n",
       "      <th>14223</th>\n",
       "      <td>2023-01-05</td>\n",
       "      <td>264.7600</td>\n",
       "      <td>264.7600</td>\n",
       "      <td>261.3800</td>\n",
       "      <td>262.1600</td>\n",
       "      <td>262.1600</td>\n",
       "      <td>1945600</td>\n",
       "    </tr>\n",
       "    <tr>\n",
       "      <th>14224</th>\n",
       "      <td>2023-01-06</td>\n",
       "      <td>263.7600</td>\n",
       "      <td>269.8900</td>\n",
       "      <td>263.3900</td>\n",
       "      <td>269.4700</td>\n",
       "      <td>269.4700</td>\n",
       "      <td>2855400</td>\n",
       "    </tr>\n",
       "  </tbody>\n",
       "</table>\n",
       "<p>14225 rows × 7 columns</p>\n",
       "</div>"
      ],
      "text/plain": [
       "             Date      Open      High       Low     Close  Adjusted_close  \\\n",
       "0      1966-07-05   10.9176   11.0872   10.8360   10.9176          0.1334   \n",
       "1      1966-07-06   11.5024   11.5024   10.8360   11.5024          0.1406   \n",
       "2      1966-07-07   11.0872   11.7936   11.0008   11.0872          0.1355   \n",
       "3      1966-07-08   11.2096   11.2096   10.8360   11.2096          0.1370   \n",
       "4      1966-07-11   11.1672   11.5024   11.0416   11.1672          0.1365   \n",
       "...           ...       ...       ...       ...       ...             ...   \n",
       "14220  2022-12-30  265.2000  265.3800  261.4000  263.5300        263.5300   \n",
       "14221  2023-01-03  263.5300  264.3500  259.5100  264.3300        264.3300   \n",
       "14222  2023-01-04  266.2500  266.5500  262.8900  264.3900        264.3900   \n",
       "14223  2023-01-05  264.7600  264.7600  261.3800  262.1600        262.1600   \n",
       "14224  2023-01-06  263.7600  269.8900  263.3900  269.4700        269.4700   \n",
       "\n",
       "        Volume  \n",
       "0       388800  \n",
       "1       692550  \n",
       "2      1858950  \n",
       "3      1239300  \n",
       "4       656100  \n",
       "...        ...  \n",
       "14220  1720100  \n",
       "14221  2743800  \n",
       "14222  2584100  \n",
       "14223  1945600  \n",
       "14224  2855400  \n",
       "\n",
       "[14225 rows x 7 columns]"
      ]
     },
     "execution_count": 4,
     "metadata": {},
     "output_type": "execute_result"
    }
   ],
   "source": [
    "df"
   ]
  },
  {
   "cell_type": "code",
   "execution_count": 5,
   "metadata": {},
   "outputs": [
    {
     "data": {
      "text/html": [
       "<div>\n",
       "<style scoped>\n",
       "    .dataframe tbody tr th:only-of-type {\n",
       "        vertical-align: middle;\n",
       "    }\n",
       "\n",
       "    .dataframe tbody tr th {\n",
       "        vertical-align: top;\n",
       "    }\n",
       "\n",
       "    .dataframe thead th {\n",
       "        text-align: right;\n",
       "    }\n",
       "</style>\n",
       "<table border=\"1\" class=\"dataframe\">\n",
       "  <thead>\n",
       "    <tr style=\"text-align: right;\">\n",
       "      <th></th>\n",
       "      <th>Close</th>\n",
       "    </tr>\n",
       "  </thead>\n",
       "  <tbody>\n",
       "    <tr>\n",
       "      <th>0</th>\n",
       "      <td>10.9176</td>\n",
       "    </tr>\n",
       "    <tr>\n",
       "      <th>1</th>\n",
       "      <td>11.5024</td>\n",
       "    </tr>\n",
       "    <tr>\n",
       "      <th>2</th>\n",
       "      <td>11.0872</td>\n",
       "    </tr>\n",
       "    <tr>\n",
       "      <th>3</th>\n",
       "      <td>11.2096</td>\n",
       "    </tr>\n",
       "    <tr>\n",
       "      <th>4</th>\n",
       "      <td>11.1672</td>\n",
       "    </tr>\n",
       "    <tr>\n",
       "      <th>...</th>\n",
       "      <td>...</td>\n",
       "    </tr>\n",
       "    <tr>\n",
       "      <th>14220</th>\n",
       "      <td>263.5300</td>\n",
       "    </tr>\n",
       "    <tr>\n",
       "      <th>14221</th>\n",
       "      <td>264.3300</td>\n",
       "    </tr>\n",
       "    <tr>\n",
       "      <th>14222</th>\n",
       "      <td>264.3900</td>\n",
       "    </tr>\n",
       "    <tr>\n",
       "      <th>14223</th>\n",
       "      <td>262.1600</td>\n",
       "    </tr>\n",
       "    <tr>\n",
       "      <th>14224</th>\n",
       "      <td>269.4700</td>\n",
       "    </tr>\n",
       "  </tbody>\n",
       "</table>\n",
       "<p>14225 rows × 1 columns</p>\n",
       "</div>"
      ],
      "text/plain": [
       "          Close\n",
       "0       10.9176\n",
       "1       11.5024\n",
       "2       11.0872\n",
       "3       11.2096\n",
       "4       11.1672\n",
       "...         ...\n",
       "14220  263.5300\n",
       "14221  264.3300\n",
       "14222  264.3900\n",
       "14223  262.1600\n",
       "14224  269.4700\n",
       "\n",
       "[14225 rows x 1 columns]"
      ]
     },
     "execution_count": 5,
     "metadata": {},
     "output_type": "execute_result"
    }
   ],
   "source": [
    "df_close = df[[\"Close\"]]\n",
    "df_close"
   ]
  },
  {
   "cell_type": "code",
   "execution_count": 6,
   "metadata": {},
   "outputs": [
    {
     "data": {
      "image/png": "[encoded data removed]",
      "text/plain": [
       "<Figure size 640x480 with 1 Axes>"
      ]
     },
     "metadata": {},
     "output_type": "display_data"
    }
   ],
   "source": [
    "# Plot the data\n",
    "from matplotlib import pyplot as plt\n",
    "\n",
    "plt.plot(df_close)\n",
    "plt.show()"
   ]
  },
  {
   "cell_type": "code",
   "execution_count": 7,
   "metadata": {},
   "outputs": [],
   "source": [
    "# Split the data into train and test sets\n",
    "df_train = df_close[:int(0.8*len(df_close))]\n",
    "df_test = df_close[int(0.8*len(df_close)):]"
   ]
  },
  {
   "cell_type": "code",
   "execution_count": 8,
   "metadata": {},
   "outputs": [
    {
     "data": {
      "text/html": [
       "<style>#sk-container-id-1 {color: black;background-color: white;}#sk-container-id-1 pre{padding: 0;}#sk-container-id-1 div.sk-toggleable {background-color: white;}#sk-container-id-1 label.sk-toggleable__label {cursor: pointer;display: block;width: 100%;margin-bottom: 0;padding: 0.3em;box-sizing: border-box;text-align: center;}#sk-container-id-1 label.sk-toggleable__label-arrow:before {content: \"▸\";float: left;margin-right: 0.25em;color: #696969;}#sk-container-id-1 label.sk-toggleable__label-arrow:hover:before {color: black;}#sk-container-id-1 div.sk-estimator:hover label.sk-toggleable__label-arrow:before {color: black;}#sk-container-id-1 div.sk-toggleable__content {max-height: 0;max-width: 0;overflow: hidden;text-align: left;background-color: #f0f8ff;}#sk-container-id-1 div.sk-toggleable__content pre {margin: 0.2em;color: black;border-radius: 0.25em;background-color: #f0f8ff;}#sk-container-id-1 input.sk-toggleable__control:checked~div.sk-toggleable__content {max-height: 200px;max-width: 100%;overflow: auto;}#sk-container-id-1 input.sk-toggleable__control:checked~label.sk-toggleable__label-arrow:before {content: \"▾\";}#sk-container-id-1 div.sk-estimator input.sk-toggleable__control:checked~label.sk-toggleable__label {background-color: #d4ebff;}#sk-container-id-1 div.sk-label input.sk-toggleable__control:checked~label.sk-toggleable__label {background-color: #d4ebff;}#sk-container-id-1 input.sk-hidden--visually {border: 0;clip: rect(1px 1px 1px 1px);clip: rect(1px, 1px, 1px, 1px);height: 1px;margin: -1px;overflow: hidden;padding: 0;position: absolute;width: 1px;}#sk-container-id-1 div.sk-estimator {font-family: monospace;background-color: #f0f8ff;border: 1px dotted black;border-radius: 0.25em;box-sizing: border-box;margin-bottom: 0.5em;}#sk-container-id-1 div.sk-estimator:hover {background-color: #d4ebff;}#sk-container-id-1 div.sk-parallel-item::after {content: \"\";width: 100%;border-bottom: 1px solid gray;flex-grow: 1;}#sk-container-id-1 div.sk-label:hover label.sk-toggleable__label {background-color: #d4ebff;}#sk-container-id-1 div.sk-serial::before {content: \"\";position: absolute;border-left: 1px solid gray;box-sizing: border-box;top: 0;bottom: 0;left: 50%;z-index: 0;}#sk-container-id-1 div.sk-serial {display: flex;flex-direction: column;align-items: center;background-color: white;padding-right: 0.2em;padding-left: 0.2em;position: relative;}#sk-container-id-1 div.sk-item {position: relative;z-index: 1;}#sk-container-id-1 div.sk-parallel {display: flex;align-items: stretch;justify-content: center;background-color: white;position: relative;}#sk-container-id-1 div.sk-item::before, #sk-container-id-1 div.sk-parallel-item::before {content: \"\";position: absolute;border-left: 1px solid gray;box-sizing: border-box;top: 0;bottom: 0;left: 50%;z-index: -1;}#sk-container-id-1 div.sk-parallel-item {display: flex;flex-direction: column;z-index: 1;position: relative;background-color: white;}#sk-container-id-1 div.sk-parallel-item:first-child::after {align-self: flex-end;width: 50%;}#sk-container-id-1 div.sk-parallel-item:last-child::after {align-self: flex-start;width: 50%;}#sk-container-id-1 div.sk-parallel-item:only-child::after {width: 0;}#sk-container-id-1 div.sk-dashed-wrapped {border: 1px dashed gray;margin: 0 0.4em 0.5em 0.4em;box-sizing: border-box;padding-bottom: 0.4em;background-color: white;}#sk-container-id-1 div.sk-label label {font-family: monospace;font-weight: bold;display: inline-block;line-height: 1.2em;}#sk-container-id-1 div.sk-label-container {text-align: center;}#sk-container-id-1 div.sk-container {/* jupyter's `normalize.less` sets `[hidden] { display: none; }` but bootstrap.min.css set `[hidden] { display: none !important; }` so we also need the `!important` here to be able to override the default hidden behavior on the sphinx rendered scikit-learn.org. See: https://github.com/scikit-learn/scikit-learn/issues/21755 */display: inline-block !important;position: relative;}#sk-container-id-1 div.sk-text-repr-fallback {display: none;}</style><div id=\"sk-container-id-1\" class=\"sk-top-container\"><div class=\"sk-text-repr-fallback\"><pre>SVR(C=1, gamma=10)</pre><b>In a Jupyter environment, please rerun this cell to show the HTML representation or trust the notebook. <br />On GitHub, the HTML representation is unable to render, please try loading this page with nbviewer.org.</b></div><div class=\"sk-container\" hidden><div class=\"sk-item\"><div class=\"sk-estimator sk-toggleable\"><input class=\"sk-toggleable__control sk-hidden--visually\" id=\"sk-estimator-id-1\" type=\"checkbox\" checked><label for=\"sk-estimator-id-1\" class=\"sk-toggleable__label sk-toggleable__label-arrow\">SVR</label><div class=\"sk-toggleable__content\"><pre>SVR(C=1, gamma=10)</pre></div></div></div></div></div>"
      ],
      "text/plain": [
       "SVR(C=1, gamma=10)"
      ]
     },
     "execution_count": 8,
     "metadata": {},
     "output_type": "execute_result"
    }
   ],
   "source": [
    "from sklearn import svm\n",
    "from sklearn.svm import SVR\n",
    "svr = SVR(kernel=\"rbf\", C=1, gamma=10)\n",
    "svr.fit(df_train.index.values.reshape(-1, 1), df_train.values.ravel())"
   ]
  },
  {
   "cell_type": "code",
   "execution_count": 9,
   "metadata": {},
   "outputs": [
    {
     "data": {
      "text/plain": [
       "['sample_model.joblib']"
      ]
     },
     "execution_count": 9,
     "metadata": {},
     "output_type": "execute_result"
    }
   ],
   "source": [
    "# Save the model using joblib\n",
    "import joblib\n",
    "\n",
    "# use level 5 compression\n",
    "joblib.dump(svr, \"sample_model.joblib\", compress=5)"
   ]
  },
  {
   "cell_type": "code",
   "execution_count": 10,
   "metadata": {},
   "outputs": [],
   "source": [
    "# load the model\n",
    "load_model = joblib.load(\"sample_model.joblib\")"
   ]
  },
  {
   "cell_type": "code",
   "execution_count": 11,
   "metadata": {},
   "outputs": [],
   "source": [
    "predictions = []"
   ]
  },
  {
   "cell_type": "code",
   "execution_count": 12,
   "metadata": {},
   "outputs": [
    {
     "name": "stdout",
     "output_type": "stream",
     "text": [
      "46.07713602287185\n"
     ]
    }
   ],
   "source": [
    "import numpy as np\n",
    "test_data = df_test.values.reshape(-1,1)"
   ]
  },
  {
   "cell_type": "code",
   "execution_count": 34,
   "metadata": {},
   "outputs": [
    {
     "name": "stdout",
     "output_type": "stream",
     "text": [
      "[46.07713602287185, 45.30476657258633, 45.844236022306134, 45.46184090224763, 46.073491456815425]\n"
     ]
    }
   ],
   "source": [
    "predicted_closings = []\n",
    "test_data = df_test.values\n",
    "range_len = 5\n",
    "\n",
    "for _ in range(range_len):\n",
    "    prediction = load_model.predict(test_data.reshape(-1,1))\n",
    "    predicted_closings.append(prediction[-1])\n",
    "    test_data = np.append(test_data, prediction[-1])\n",
    "\n",
    "print(predicted_closings)"
   ]
  },
  {
   "cell_type": "code",
   "execution_count": 39,
   "metadata": {},
   "outputs": [
    {
     "name": "stdout",
     "output_type": "stream",
     "text": [
      "0.8290082902628424\n",
      "0.01676253163612701\n",
      "-0.011907564932609832\n",
      "0.008341182081700408\n",
      "-0.013454152810990883\n",
      "3\n"
     ]
    }
   ],
   "source": [
    "score = 0\n",
    "thershold = 0.1 # 10% increase per last closing\n",
    "last = test_data[-1][-1]\n",
    "for i in predicted_closings:\n",
    "    # Calculat the percentage increease from last actual closing\n",
    "    diff = (last - i) / last\n",
    "    print(diff)\n",
    "    if diff <= thershold:\n",
    "        score += 1\n",
    "    else:\n",
    "        score -= 1\n",
    "    last = i\n",
    "print(score)"
   ]
  }
 ],
 "metadata": {
  "kernelspec": {
   "display_name": "Python 3.11.0 64-bit",
   "language": "python",
   "name": "python3"
  },
  "language_info": {
   "codemirror_mode": {
    "name": "ipython",
    "version": 3
   },
   "file_extension": ".py",
   "mimetype": "text/x-python",
   "name": "python",
   "nbconvert_exporter": "python",
   "pygments_lexer": "ipython3",
   "version": "3.11.0"
  },
  "orig_nbformat": 4,
  "vscode": {
   "interpreter": {
    "hash": "bce94cf5ba4e91c139e25acaf699abf418036a78723bf02e000e119123230ea1"
   }
  }
 },
 "nbformat": 4,
 "nbformat_minor": 2
}
