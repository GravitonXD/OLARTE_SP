{
 "cells": [
  {
   "cell_type": "code",
   "execution_count": null,
   "metadata": {},
   "outputs": [],
   "source": [
    "import numpy as np\n",
    "import matplotlib.pyplot as plt"
   ]
  },
  {
   "cell_type": "code",
   "execution_count": null,
   "metadata": {},
   "outputs": [],
   "source": [
    "# Define the function for ALMA\n",
    "def alma(data, window_size:int, sigma:float, offset:float):\n",
    "    m = offset * (window_size - 1)\n",
    "    s = window_size / sigma\n",
    "    w = np.exp(-(np.arange(window_size) - m)**2 / (2 * s**2))\n",
    "    w /= w.sum()\n",
    "    return np.convolve(data, w, mode='valid')"
   ]
  },
  {
   "cell_type": "code",
   "execution_count": null,
   "metadata": {},
   "outputs": [],
   "source": [
    "# Define the function for the optimal ALMA, which takes the fast and slow ALMA as parameters\n",
    "# Uses kalman filter to determine the optimal ALMA\n",
    "def optimal_alma(fast_alma, slow_alma):\n",
    "    # Change the size of the fast alma to slow alma\n",
    "    fast_alma = fast_alma[:len(slow_alma)]\n",
    "    \n",
    "    # Initialize the optimal ALMA\n",
    "    optimal_alma = []\n",
    "    # Initialize the kalman filter\n",
    "    kalman_gain = 0.5\n",
    "    # Iterate through the fast and slow ALMA\n",
    "    for i in range(len(fast_alma)):\n",
    "        # Compute for the optimal ALMA\n",
    "        optimal_alma.append(kalman_gain * fast_alma[i] + (1 - kalman_gain) * slow_alma[i])\n",
    "    return optimal_alma"
   ]
  },
  {
   "cell_type": "code",
   "execution_count": null,
   "metadata": {},
   "outputs": [],
   "source": [
    "# Load data\n",
    "closing_prices = np.genfromtxt('./data_test/PSEI.csv', delimiter=',', skip_header=1, usecols=4)\n",
    "closing_prices"
   ]
  },
  {
   "cell_type": "code",
   "execution_count": null,
   "metadata": {},
   "outputs": [],
   "source": [
    "# Function for MEAN ABSOLUTE PERCENTAGE ERROR (MAPE)\n",
    "def mape(y_true, y_pred):\n",
    "    return np.mean(np.abs((y_true - y_pred) / y_true)) * 100"
   ]
  },
  {
   "cell_type": "code",
   "execution_count": null,
   "metadata": {},
   "outputs": [],
   "source": [
    "# Define a range of window_sizes, sigma, and offset\n",
    "slow_ws = np.arange(10,20, 1)\n",
    "slow_sigma = np.arange(-20, 20, 1)\n",
    "slow_offset = np.arange(0.85, 1.15, 0.1)\n",
    "\n",
    "fast_ws = np.arange(1,10, 1)\n",
    "fast_sigma = np.arange(-20, 20, 1)\n",
    "fast_offset = np.arange(0.85, 1.15, 0.1)"
   ]
  },
  {
   "cell_type": "code",
   "execution_count": null,
   "metadata": {},
   "outputs": [],
   "source": [
    "# Test each combination of window_size, sigma, and offset and find the best combination that yields the lowest MAPE\n",
    "\n",
    "# Initialize a dictionary to store the MAPE and the corresponding window_size, sigma, and offset\n",
    "dict_mape = {}\n",
    "\n",
    "\n",
    "# Iterate through the slow window_size\n",
    "for slow_ws_ in slow_ws:\n",
    "    # Iterate through the slow sigma\n",
    "    for slow_sigma_ in slow_sigma:\n",
    "        # Iterate through the slow offset\n",
    "        for slow_offset_ in slow_offset:\n",
    "            # Iterate through the fast window_size\n",
    "            for fast_ws_ in fast_ws:\n",
    "                # Iterate through the fast sigma\n",
    "                for fast_sigma_ in fast_sigma:\n",
    "                    # Iterate through the fast offset\n",
    "                    for fast_offset_ in fast_offset:\n",
    "                        # Compute for the slow and fast ALMA\n",
    "                        slow_alma = alma(closing_prices, slow_ws_, slow_sigma_, slow_offset_)\n",
    "                        fast_alma = alma(closing_prices, fast_ws_, fast_sigma_, fast_offset_)\n",
    "                        # Compute for the optimal ALMA\n",
    "                        optimal_alma_ = optimal_alma(fast_alma, slow_alma)\n",
    "                        # Compute for the MAPE (based on the last 1000 data points)\n",
    "                        mape_ = mape(closing_prices[-1000:], optimal_alma_[-1000:])\n",
    "                        # Store the MAPE and the corresponding window_size, sigma, and offset\n",
    "                        dict_mape[mape_] = [slow_ws_, slow_sigma_, slow_offset_, fast_ws_, fast_sigma_, fast_offset_]\n",
    "\n",
    "                        # Print the MAPE\n",
    "                        print(f'Current MAPE: {mape_}', end='\\r')"
   ]
  },
  {
   "cell_type": "code",
   "execution_count": null,
   "metadata": {},
   "outputs": [],
   "source": [
    "# Find the lowest MAPE\n",
    "min_mape = min(dict_mape.keys())\n",
    "# Print the parameters that yields the lowest MAPE\n",
    "print(f'Lowest MAPE: {min_mape}\\nSlow ALMA: {dict_mape[min_mape][0]}, {dict_mape[min_mape][1]}, {dict_mape[min_mape][2]}\\nFast ALMA: {dict_mape[min_mape][3]}, {dict_mape[min_mape][4]}, {dict_mape[min_mape][5]}')"
   ]
  }
 ],
 "metadata": {
  "kernelspec": {
   "display_name": "Python 3",
   "language": "python",
   "name": "python3"
  },
  "language_info": {
   "codemirror_mode": {
    "name": "ipython",
    "version": 3
   },
   "file_extension": ".py",
   "mimetype": "text/x-python",
   "name": "python",
   "nbconvert_exporter": "python",
   "pygments_lexer": "ipython3",
   "version": "3.9.10"
  },
  "orig_nbformat": 4
 },
 "nbformat": 4,
 "nbformat_minor": 2
}
