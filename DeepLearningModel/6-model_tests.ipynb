{
 "cells": [
  {
   "attachments": {},
   "cell_type": "markdown",
   "metadata": {},
   "source": [
    "# Model Tests\n",
    "Each model will be tested against other stocks in the list"
   ]
  },
  {
   "cell_type": "code",
   "execution_count": 1,
   "metadata": {},
   "outputs": [],
   "source": [
    "import tensorflow as tf\n",
    "import numpy as np\n",
    "import pandas as pd\n",
    "import matplotlib.pyplot as plt\n",
    "from math import sqrt\n",
    "from sklearn.metrics import mean_squared_error, mean_absolute_error, mean_absolute_percentage_error\n",
    "from os import makedirs"
   ]
  },
  {
   "attachments": {},
   "cell_type": "markdown",
   "metadata": {},
   "source": [
    "## Data Preprocessing"
   ]
  },
  {
   "cell_type": "code",
   "execution_count": 2,
   "metadata": {},
   "outputs": [],
   "source": [
    "stock_dict = {\n",
    "    'MEG': [],\n",
    "    'JGS': [],\n",
    "    'BDO': [],\n",
    "    'FGEN': [],\n",
    "    'ICT': [],\n",
    "    'ALI': [],\n",
    "    'SMC': [],\n",
    "    'TEL': [],\n",
    "    'GLO': [],\n",
    "    'BLOOM': [],\n",
    "    'RLC': [],\n",
    "    'MER': [],\n",
    "    'AC': [],\n",
    "    'PGOLD': [],\n",
    "    'LTG': [],\n",
    "    'MPI': [],\n",
    "    'AP': [],\n",
    "    'RRHI': [],\n",
    "    'URC': [],\n",
    "    'PSEI': []\n",
    "}"
   ]
  },
  {
   "cell_type": "code",
   "execution_count": 3,
   "metadata": {},
   "outputs": [
    {
     "name": "stdout",
     "output_type": "stream",
     "text": [
      "{'MEG': array([2.3408, 2.3145, 2.2882, ..., 2.37  , 2.31  , 2.34  ]), 'JGS': array([ 7.6149,  7.695 ,  7.695 , ..., 54.    , 53.6   , 53.9   ]), 'BDO': array([ 17.8868,  17.8868,  17.8868, ..., 126.    , 125.    , 125.5   ]), 'FGEN': array([19.5961, 19.8114, 19.8114, ..., 18.1   , 18.18  , 18.02  ]), 'ICT': array([  4.9185,   4.9185,   4.6815, ..., 212.    , 211.4   , 214.    ]), 'ALI': array([ 6.9136,  6.9136,  9.3827, ..., 29.2   , 29.1   , 29.25  ]), 'SMC': array([ 45.8774,  45.8774,  43.9855, ..., 112.7   , 110.    , 107.5   ]), 'TEL': array([ 827.5,  827.5,  700. , ..., 1395. , 1380. , 1380. ]), 'GLO': array([ 749.8907,  759.6295,  740.1518, ..., 2090.    , 2080.    ,\n",
      "       2016.    ]), 'BLOOM': array([0.72, 0.7 , 0.9 , ..., 9.4 , 9.44, 9.45]), 'RLC': array([ 2.9573,  2.9957,  3.3029, ..., 16.42  , 16.3   , 16.14  ]), 'MER': array([ 95.9033,  95.1712,  97.3675, ..., 294.    , 283.    , 315.    ]), 'AC': array([198.2492, 195.6745, 205.9732, ..., 714.    , 700.    , 700.    ]), 'PGOLD': array([10.68, 10.96, 11.6 , ..., 33.7 , 33.8 , 33.25]), 'LTG': array([ 0.1364,  0.1136,  1.9636, ..., 10.2   , 10.28  , 10.28  ]), 'MPI': array([1.5 , 2.24, 3.35, ..., 4.15, 4.23, 4.22]), 'AP': array([ 5.8 ,  5.5 ,  5.6 , ..., 37.7 , 37.75, 37.75]), 'RRHI': array([56.5, 59. , 59.9, ..., 57.1, 58.8, 58.5]), 'URC': array([ 11.693 ,  11.5283,  11.5283, ..., 147.    , 143.    , 145.    ]), 'PSEI': array([7186.71, 7186.62, 7233.29, ..., 6923.08, 6842.79, 6876.79])}\n"
     ]
    }
   ],
   "source": [
    "for index, key in enumerate(stock_dict):\n",
    "    # Loading of datasets to the dictionary of stocks\n",
    "    # We will only use the closing prices, hence we set usecols to index:4\n",
    "    data = np.genfromtxt(f'data/{key}.csv', delimiter=',', skip_header=1, usecols=4)\n",
    "\n",
    "    # If PSEI, we cut the data (include only the test data)\n",
    "    if key == 'PSEI':\n",
    "        len_data = len(data)\n",
    "        data = data[int(len_data*0.80):]\n",
    "    stock_dict[key] = data\n",
    "\n",
    "print(stock_dict)"
   ]
  },
  {
   "cell_type": "code",
   "execution_count": 4,
   "metadata": {},
   "outputs": [
    {
     "name": "stdout",
     "output_type": "stream",
     "text": [
      "['MEG', 'JGS', 'BDO', 'FGEN', 'ICT', 'ALI', 'SMC', 'TEL', 'GLO', 'BLOOM', 'RLC', 'MER', 'AC', 'PGOLD', 'LTG', 'MPI', 'AP', 'RRHI', 'URC', 'PSEI']\n"
     ]
    }
   ],
   "source": [
    "stock_symbols = [keys for index,keys in enumerate(stock_dict)]\n",
    "print(stock_symbols)"
   ]
  },
  {
   "cell_type": "code",
   "execution_count": 5,
   "metadata": {},
   "outputs": [],
   "source": [
    "# Creating a windowed datasets for training, using the following window sizes (5, 10, 15, 20)\n",
    "windowed_sizes = [5, 10, 15, 20]\n",
    "windowed_data = [0, 0, 0, 0]\n",
    "\n",
    "# Initialize index counter \n",
    "idx_counter = 0\n",
    "\n",
    "# Loop through the different window sizes\n",
    "X_stock_dict = stock_dict.copy()\n",
    "idx_counter = 0\n",
    "for stock in stock_symbols:\n",
    "    len_data = X_stock_dict[stock].shape[0]\n",
    "    for window_size in windowed_sizes:\n",
    "        train_data = np.zeros((len_data - window_size, window_size))\n",
    "        for i in range(len_data - window_size):\n",
    "            train_data[i] = X_stock_dict[stock][i:i + window_size]\n",
    "        windowed_data[idx_counter] = train_data\n",
    "        idx_counter += 1\n",
    "\n",
    "    X_stock_dict[stock] = windowed_data\n",
    "    # Reset windowed_data and idx_counter\n",
    "    windowed_data = [0, 0, 0, 0]\n",
    "    idx_counter = 0"
   ]
  },
  {
   "attachments": {},
   "cell_type": "markdown",
   "metadata": {},
   "source": [
    "## Predicting each stocks for every model"
   ]
  },
  {
   "cell_type": "code",
   "execution_count": 6,
   "metadata": {},
   "outputs": [
    {
     "name": "stdout",
     "output_type": "stream",
     "text": [
      "211/211 [==============================] - 0s 911us/step\n",
      "204/204 [==============================] - 0s 848us/step\n",
      "158/158 [==============================] - 0s 893us/step\n",
      "130/130 [==============================] - 0s 856us/step\n",
      "213/213 [==============================] - 0s 839us/step\n",
      "212/212 [==============================] - 0s 919us/step\n",
      "213/213 [==============================] - 0s 842us/step\n",
      "213/213 [==============================] - 0s 1ms/step\n",
      "210/210 [==============================] - 0s 848us/step\n",
      "95/95 [==============================] - 0s 859us/step\n",
      "184/184 [==============================] - 0s 839us/step\n",
      "213/213 [==============================] - 0s 817us/step\n",
      "213/213 [==============================] - 0s 855us/step\n",
      "87/87 [==============================] - 0s 878us/step\n",
      "118/118 [==============================] - 0s 809us/step\n",
      "122/122 [==============================] - 0s 870us/step\n",
      "119/119 [==============================] - 0s 946us/step\n",
      "71/71 [==============================] - 0s 909us/step\n",
      "192/192 [==============================] - 0s 1ms/step\n",
      "36/36 [==============================] - 0s 998us/step\n"
     ]
    },
    {
     "data": {
      "text/plain": [
       "<Figure size 1000x500 with 0 Axes>"
      ]
     },
     "metadata": {},
     "output_type": "display_data"
    },
    {
     "data": {
      "text/plain": [
       "<Figure size 1000x500 with 0 Axes>"
      ]
     },
     "metadata": {},
     "output_type": "display_data"
    },
    {
     "data": {
      "text/plain": [
       "<Figure size 1000x500 with 0 Axes>"
      ]
     },
     "metadata": {},
     "output_type": "display_data"
    },
    {
     "data": {
      "text/plain": [
       "<Figure size 1000x500 with 0 Axes>"
      ]
     },
     "metadata": {},
     "output_type": "display_data"
    },
    {
     "data": {
      "text/plain": [
       "<Figure size 1000x500 with 0 Axes>"
      ]
     },
     "metadata": {},
     "output_type": "display_data"
    },
    {
     "data": {
      "text/plain": [
       "<Figure size 1000x500 with 0 Axes>"
      ]
     },
     "metadata": {},
     "output_type": "display_data"
    },
    {
     "data": {
      "text/plain": [
       "<Figure size 1000x500 with 0 Axes>"
      ]
     },
     "metadata": {},
     "output_type": "display_data"
    },
    {
     "data": {
      "text/plain": [
       "<Figure size 1000x500 with 0 Axes>"
      ]
     },
     "metadata": {},
     "output_type": "display_data"
    },
    {
     "data": {
      "text/plain": [
       "<Figure size 1000x500 with 0 Axes>"
      ]
     },
     "metadata": {},
     "output_type": "display_data"
    },
    {
     "data": {
      "text/plain": [
       "<Figure size 1000x500 with 0 Axes>"
      ]
     },
     "metadata": {},
     "output_type": "display_data"
    },
    {
     "data": {
      "text/plain": [
       "<Figure size 1000x500 with 0 Axes>"
      ]
     },
     "metadata": {},
     "output_type": "display_data"
    },
    {
     "data": {
      "text/plain": [
       "<Figure size 1000x500 with 0 Axes>"
      ]
     },
     "metadata": {},
     "output_type": "display_data"
    },
    {
     "data": {
      "text/plain": [
       "<Figure size 1000x500 with 0 Axes>"
      ]
     },
     "metadata": {},
     "output_type": "display_data"
    },
    {
     "data": {
      "text/plain": [
       "<Figure size 1000x500 with 0 Axes>"
      ]
     },
     "metadata": {},
     "output_type": "display_data"
    },
    {
     "data": {
      "text/plain": [
       "<Figure size 1000x500 with 0 Axes>"
      ]
     },
     "metadata": {},
     "output_type": "display_data"
    },
    {
     "data": {
      "text/plain": [
       "<Figure size 1000x500 with 0 Axes>"
      ]
     },
     "metadata": {},
     "output_type": "display_data"
    },
    {
     "data": {
      "text/plain": [
       "<Figure size 1000x500 with 0 Axes>"
      ]
     },
     "metadata": {},
     "output_type": "display_data"
    },
    {
     "data": {
      "text/plain": [
       "<Figure size 1000x500 with 0 Axes>"
      ]
     },
     "metadata": {},
     "output_type": "display_data"
    },
    {
     "data": {
      "text/plain": [
       "<Figure size 1000x500 with 0 Axes>"
      ]
     },
     "metadata": {},
     "output_type": "display_data"
    },
    {
     "data": {
      "text/plain": [
       "<Figure size 1000x500 with 0 Axes>"
      ]
     },
     "metadata": {},
     "output_type": "display_data"
    }
   ],
   "source": [
    "# Load the model_s5\n",
    "model = tf.keras.models.load_model('exported_models/model_s5.keras')\n",
    "\n",
    "# Initialize pandas dataframe for model_s5\n",
    "len_symbols = len(stock_symbols)\n",
    "df_model_s5 = pd.DataFrame({\n",
    "    'MSE': [0 for _ in range(len_symbols)],\n",
    "    'RMSE': [0 for _ in range(len_symbols)],\n",
    "    'MAE': [0 for _ in range(len_symbols)],\n",
    "    'MAPE': [0 for _ in range(len_symbols)]\n",
    "}, index=[stock for stock in stock_symbols])\n",
    "\n",
    "# Predict for all stocks using model_s5\n",
    "for stock in stock_symbols:\n",
    "    predictions = model.predict(X_stock_dict[stock][0])\n",
    "    # Plot each one\n",
    "    plt.figure(figsize=(10, 5))\n",
    "    plt.plot(stock_dict[stock][0], label=f'Actual for {stock}')\n",
    "    plt.plot(predictions, label='Predicted (window_size = 5)')\n",
    "    plt.title(f\"Actual vs Predictions using model_s5 for {stock}\")\n",
    "    plt.legend()\n",
    "    # Save the graph in ./results/test_validation/graphs\n",
    "    makedirs('./results/test_validation/graphs/model_s5', exist_ok=True)\n",
    "    plt.savefig(f'./results/test_validation/graphs/model_s5/{stock}.png')\n",
    "    # Reset the figure\n",
    "    plt.clf()\n",
    "\n",
    "    len_predictions = len(predictions)\n",
    "    df_model_s5.loc[stock, 'MSE'] = mean_squared_error(stock_dict[stock][5:], predictions)\n",
    "    df_model_s5.loc[stock, 'RMSE'] = sqrt(mean_squared_error(stock_dict[stock][5:], predictions))\n",
    "    df_model_s5.loc[stock, 'MAE']= mean_absolute_error(stock_dict[stock][5:], predictions)\n",
    "    df_model_s5.loc[stock, 'MAPE'] = mean_absolute_percentage_error(stock_dict[stock][5:], predictions)"
   ]
  },
  {
   "cell_type": "code",
   "execution_count": 7,
   "metadata": {},
   "outputs": [],
   "source": [
    "# Save the dataframe in ./results/test_validation/model\n",
    "makedirs('./results/test_validation/model', exist_ok=True)\n",
    "df_model_s5.to_csv('./results/test_validation/model/model_s5.csv')"
   ]
  },
  {
   "cell_type": "code",
   "execution_count": 8,
   "metadata": {},
   "outputs": [
    {
     "name": "stdout",
     "output_type": "stream",
     "text": [
      "211/211 [==============================] - 0s 880us/step\n",
      "204/204 [==============================] - 0s 887us/step\n",
      "158/158 [==============================] - 0s 844us/step\n",
      "130/130 [==============================] - 0s 895us/step\n",
      "213/213 [==============================] - 0s 913us/step\n",
      "212/212 [==============================] - 0s 843us/step\n",
      "213/213 [==============================] - 0s 842us/step\n",
      "213/213 [==============================] - 0s 840us/step\n",
      "210/210 [==============================] - 0s 866us/step\n",
      "95/95 [==============================] - 0s 1ms/step\n",
      "184/184 [==============================] - 0s 952us/step\n",
      "213/213 [==============================] - 0s 971us/step\n",
      "213/213 [==============================] - 0s 822us/step\n",
      "86/86 [==============================] - 0s 934us/step\n",
      "118/118 [==============================] - 0s 831us/step\n",
      "122/122 [==============================] - 0s 898us/step\n",
      "119/119 [==============================] - 0s 991us/step\n",
      "71/71 [==============================] - 0s 887us/step\n",
      "192/192 [==============================] - 0s 2ms/step\n",
      "36/36 [==============================] - 0s 910us/step\n"
     ]
    },
    {
     "data": {
      "text/plain": [
       "<Figure size 1000x500 with 0 Axes>"
      ]
     },
     "metadata": {},
     "output_type": "display_data"
    },
    {
     "data": {
      "text/plain": [
       "<Figure size 1000x500 with 0 Axes>"
      ]
     },
     "metadata": {},
     "output_type": "display_data"
    },
    {
     "data": {
      "text/plain": [
       "<Figure size 1000x500 with 0 Axes>"
      ]
     },
     "metadata": {},
     "output_type": "display_data"
    },
    {
     "data": {
      "text/plain": [
       "<Figure size 1000x500 with 0 Axes>"
      ]
     },
     "metadata": {},
     "output_type": "display_data"
    },
    {
     "data": {
      "text/plain": [
       "<Figure size 1000x500 with 0 Axes>"
      ]
     },
     "metadata": {},
     "output_type": "display_data"
    },
    {
     "data": {
      "text/plain": [
       "<Figure size 1000x500 with 0 Axes>"
      ]
     },
     "metadata": {},
     "output_type": "display_data"
    },
    {
     "data": {
      "text/plain": [
       "<Figure size 1000x500 with 0 Axes>"
      ]
     },
     "metadata": {},
     "output_type": "display_data"
    },
    {
     "data": {
      "text/plain": [
       "<Figure size 1000x500 with 0 Axes>"
      ]
     },
     "metadata": {},
     "output_type": "display_data"
    },
    {
     "data": {
      "text/plain": [
       "<Figure size 1000x500 with 0 Axes>"
      ]
     },
     "metadata": {},
     "output_type": "display_data"
    },
    {
     "data": {
      "text/plain": [
       "<Figure size 1000x500 with 0 Axes>"
      ]
     },
     "metadata": {},
     "output_type": "display_data"
    },
    {
     "data": {
      "text/plain": [
       "<Figure size 1000x500 with 0 Axes>"
      ]
     },
     "metadata": {},
     "output_type": "display_data"
    },
    {
     "data": {
      "text/plain": [
       "<Figure size 1000x500 with 0 Axes>"
      ]
     },
     "metadata": {},
     "output_type": "display_data"
    },
    {
     "data": {
      "text/plain": [
       "<Figure size 1000x500 with 0 Axes>"
      ]
     },
     "metadata": {},
     "output_type": "display_data"
    },
    {
     "data": {
      "text/plain": [
       "<Figure size 1000x500 with 0 Axes>"
      ]
     },
     "metadata": {},
     "output_type": "display_data"
    },
    {
     "data": {
      "text/plain": [
       "<Figure size 1000x500 with 0 Axes>"
      ]
     },
     "metadata": {},
     "output_type": "display_data"
    },
    {
     "data": {
      "text/plain": [
       "<Figure size 1000x500 with 0 Axes>"
      ]
     },
     "metadata": {},
     "output_type": "display_data"
    },
    {
     "data": {
      "text/plain": [
       "<Figure size 1000x500 with 0 Axes>"
      ]
     },
     "metadata": {},
     "output_type": "display_data"
    },
    {
     "data": {
      "text/plain": [
       "<Figure size 1000x500 with 0 Axes>"
      ]
     },
     "metadata": {},
     "output_type": "display_data"
    },
    {
     "data": {
      "text/plain": [
       "<Figure size 1000x500 with 0 Axes>"
      ]
     },
     "metadata": {},
     "output_type": "display_data"
    },
    {
     "data": {
      "text/plain": [
       "<Figure size 1000x500 with 0 Axes>"
      ]
     },
     "metadata": {},
     "output_type": "display_data"
    }
   ],
   "source": [
    "# Load the model_s10\n",
    "model = tf.keras.models.load_model('exported_models/model_s10.keras')\n",
    "\n",
    "# Initialize pandas dataframe for model_s10\n",
    "len_symbols = len(stock_symbols)\n",
    "df_model_s10 = pd.DataFrame({\n",
    "    'MSE': [0 for _ in range(len_symbols)],\n",
    "    'RMSE': [0 for _ in range(len_symbols)],\n",
    "    'MAE': [0 for _ in range(len_symbols)],\n",
    "    'MAPE': [0 for _ in range(len_symbols)]\n",
    "}, index=[stock for stock in stock_symbols])\n",
    "\n",
    "# Predict for all stocks using model_s10\n",
    "for stock in stock_symbols:\n",
    "    predictions = model.predict(X_stock_dict[stock][1])\n",
    "    # Plot each one\n",
    "    plt.figure(figsize=(10, 5))\n",
    "    plt.plot(stock_dict[stock][0], label=f'Actual for {stock}')\n",
    "    plt.plot(predictions, label='Predicted (window_size = 10)')\n",
    "    plt.title(f\"Actual vs Predictions using model_s10 for {stock}\")\n",
    "    plt.legend()\n",
    "    makedirs('./results/test_validation/graphs/model_s10', exist_ok=True)\n",
    "    plt.savefig(f'./results/test_validation/graphs/model_s10/{stock}.png')\n",
    "    # Reset the figure\n",
    "    plt.clf()\n",
    "\n",
    "    len_predictions = len(predictions)\n",
    "    df_model_s10.loc[stock, 'MSE'] = mean_squared_error(stock_dict[stock][10:], predictions)\n",
    "    df_model_s10.loc[stock, 'RMSE'] = sqrt(mean_squared_error(stock_dict[stock][10:], predictions))\n",
    "    df_model_s10.loc[stock, 'MAE']= mean_absolute_error(stock_dict[stock][10:], predictions)\n",
    "    df_model_s10.loc[stock, 'MAPE'] = mean_absolute_percentage_error(stock_dict[stock][10:], predictions)"
   ]
  },
  {
   "cell_type": "code",
   "execution_count": 9,
   "metadata": {},
   "outputs": [],
   "source": [
    "# Save the dataframe in ./results/test_validation/model\n",
    "makedirs('./results/test_validation/model', exist_ok=True)\n",
    "df_model_s10.to_csv('./results/test_validation/model/model_s10.csv')"
   ]
  },
  {
   "cell_type": "code",
   "execution_count": 10,
   "metadata": {},
   "outputs": [
    {
     "name": "stdout",
     "output_type": "stream",
     "text": [
      "211/211 [==============================] - 0s 1ms/step\n",
      "204/204 [==============================] - 0s 937us/step\n",
      "158/158 [==============================] - 0s 839us/step\n",
      "129/129 [==============================] - 0s 859us/step\n",
      "213/213 [==============================] - 0s 826us/step\n",
      "212/212 [==============================] - 0s 896us/step\n",
      "212/212 [==============================] - 0s 983us/step\n",
      "213/213 [==============================] - 0s 827us/step\n",
      "210/210 [==============================] - 0s 997us/step\n",
      "95/95 [==============================] - 0s 844us/step\n",
      "184/184 [==============================] - 0s 872us/step\n",
      "212/212 [==============================] - 0s 947us/step\n",
      "213/213 [==============================] - 0s 849us/step\n",
      "86/86 [==============================] - 0s 925us/step\n",
      "118/118 [==============================] - 0s 886us/step\n",
      "122/122 [==============================] - 0s 803us/step\n",
      "119/119 [==============================] - 0s 822us/step\n",
      "70/70 [==============================] - 0s 884us/step\n",
      "192/192 [==============================] - 0s 844us/step\n",
      "35/35 [==============================] - 0s 1ms/step\n"
     ]
    },
    {
     "data": {
      "text/plain": [
       "<Figure size 1000x500 with 0 Axes>"
      ]
     },
     "metadata": {},
     "output_type": "display_data"
    },
    {
     "data": {
      "text/plain": [
       "<Figure size 1000x500 with 0 Axes>"
      ]
     },
     "metadata": {},
     "output_type": "display_data"
    },
    {
     "data": {
      "text/plain": [
       "<Figure size 1000x500 with 0 Axes>"
      ]
     },
     "metadata": {},
     "output_type": "display_data"
    },
    {
     "data": {
      "text/plain": [
       "<Figure size 1000x500 with 0 Axes>"
      ]
     },
     "metadata": {},
     "output_type": "display_data"
    },
    {
     "data": {
      "text/plain": [
       "<Figure size 1000x500 with 0 Axes>"
      ]
     },
     "metadata": {},
     "output_type": "display_data"
    },
    {
     "data": {
      "text/plain": [
       "<Figure size 1000x500 with 0 Axes>"
      ]
     },
     "metadata": {},
     "output_type": "display_data"
    },
    {
     "data": {
      "text/plain": [
       "<Figure size 1000x500 with 0 Axes>"
      ]
     },
     "metadata": {},
     "output_type": "display_data"
    },
    {
     "data": {
      "text/plain": [
       "<Figure size 1000x500 with 0 Axes>"
      ]
     },
     "metadata": {},
     "output_type": "display_data"
    },
    {
     "data": {
      "text/plain": [
       "<Figure size 1000x500 with 0 Axes>"
      ]
     },
     "metadata": {},
     "output_type": "display_data"
    },
    {
     "data": {
      "text/plain": [
       "<Figure size 1000x500 with 0 Axes>"
      ]
     },
     "metadata": {},
     "output_type": "display_data"
    },
    {
     "data": {
      "text/plain": [
       "<Figure size 1000x500 with 0 Axes>"
      ]
     },
     "metadata": {},
     "output_type": "display_data"
    },
    {
     "data": {
      "text/plain": [
       "<Figure size 1000x500 with 0 Axes>"
      ]
     },
     "metadata": {},
     "output_type": "display_data"
    },
    {
     "data": {
      "text/plain": [
       "<Figure size 1000x500 with 0 Axes>"
      ]
     },
     "metadata": {},
     "output_type": "display_data"
    },
    {
     "data": {
      "text/plain": [
       "<Figure size 1000x500 with 0 Axes>"
      ]
     },
     "metadata": {},
     "output_type": "display_data"
    },
    {
     "data": {
      "text/plain": [
       "<Figure size 1000x500 with 0 Axes>"
      ]
     },
     "metadata": {},
     "output_type": "display_data"
    },
    {
     "data": {
      "text/plain": [
       "<Figure size 1000x500 with 0 Axes>"
      ]
     },
     "metadata": {},
     "output_type": "display_data"
    },
    {
     "data": {
      "text/plain": [
       "<Figure size 1000x500 with 0 Axes>"
      ]
     },
     "metadata": {},
     "output_type": "display_data"
    },
    {
     "data": {
      "text/plain": [
       "<Figure size 1000x500 with 0 Axes>"
      ]
     },
     "metadata": {},
     "output_type": "display_data"
    },
    {
     "data": {
      "text/plain": [
       "<Figure size 1000x500 with 0 Axes>"
      ]
     },
     "metadata": {},
     "output_type": "display_data"
    },
    {
     "data": {
      "text/plain": [
       "<Figure size 1000x500 with 0 Axes>"
      ]
     },
     "metadata": {},
     "output_type": "display_data"
    }
   ],
   "source": [
    "# Load the model_s15\n",
    "model = tf.keras.models.load_model('exported_models/model_s15.keras')\n",
    "\n",
    "# Initialize pandas dataframe for model_s15\n",
    "len_symbols = len(stock_symbols)\n",
    "df_model_s15 = pd.DataFrame({\n",
    "    'MSE': [0 for _ in range(len_symbols)],\n",
    "    'RMSE': [0 for _ in range(len_symbols)],\n",
    "    'MAE': [0 for _ in range(len_symbols)],\n",
    "    'MAPE': [0 for _ in range(len_symbols)]\n",
    "}, index=[stock for stock in stock_symbols])\n",
    "\n",
    "# Predict for all stocks using model_s15\n",
    "for stock in stock_symbols:\n",
    "    predictions = model.predict(X_stock_dict[stock][2])\n",
    "    # Plot each one\n",
    "    plt.figure(figsize=(10, 5))\n",
    "    plt.plot(stock_dict[stock][0], label=f'Actual for {stock}')\n",
    "    plt.plot(predictions, label='Predicted (window_size = 15)')\n",
    "    plt.title(f\"Actual vs Predictions using model_s15 for {stock}\")\n",
    "    plt.legend()\n",
    "    makedirs('./results/test_validation/graphs/model_s15', exist_ok=True)\n",
    "    plt.savefig(f'./results/test_validation/graphs/model_s15/{stock}.png')\n",
    "    plt.clf()\n",
    "\n",
    "    len_predictions = len(predictions)\n",
    "    df_model_s15.loc[stock, 'MSE'] = mean_squared_error(stock_dict[stock][15:], predictions)\n",
    "    df_model_s15.loc[stock, 'RMSE'] = sqrt(mean_squared_error(stock_dict[stock][15:], predictions))\n",
    "    df_model_s15.loc[stock, 'MAE']= mean_absolute_error(stock_dict[stock][15:], predictions)\n",
    "    df_model_s15.loc[stock, 'MAPE'] = mean_absolute_percentage_error(stock_dict[stock][15:], predictions)"
   ]
  },
  {
   "cell_type": "code",
   "execution_count": 11,
   "metadata": {},
   "outputs": [],
   "source": [
    "# Save the dataframe in ./results/test_validation/model\n",
    "makedirs('./results/test_validation/model', exist_ok=True)\n",
    "df_model_s15.to_csv('./results/test_validation/model/model_s15.csv')"
   ]
  },
  {
   "cell_type": "code",
   "execution_count": 12,
   "metadata": {},
   "outputs": [
    {
     "name": "stdout",
     "output_type": "stream",
     "text": [
      "211/211 [==============================] - 0s 1ms/step\n",
      "204/204 [==============================] - 0s 830us/step\n",
      "157/157 [==============================] - 0s 917us/step\n",
      "129/129 [==============================] - 0s 880us/step\n",
      "213/213 [==============================] - 0s 851us/step\n",
      "212/212 [==============================] - 0s 850us/step\n",
      "212/212 [==============================] - 0s 830us/step\n",
      "213/213 [==============================] - 0s 838us/step\n",
      "209/209 [==============================] - 0s 907us/step\n",
      "95/95 [==============================] - 0s 843us/step\n",
      "184/184 [==============================] - 0s 856us/step\n",
      "212/212 [==============================] - 0s 926us/step\n",
      "213/213 [==============================] - 0s 900us/step\n",
      "86/86 [==============================] - 0s 885us/step\n",
      "118/118 [==============================] - 0s 905us/step\n",
      "121/121 [==============================] - 0s 840us/step\n",
      "118/118 [==============================] - 0s 856us/step\n",
      "70/70 [==============================] - 0s 923us/step\n",
      "192/192 [==============================] - 0s 1ms/step\n",
      "35/35 [==============================] - 0s 1ms/step\n"
     ]
    },
    {
     "data": {
      "text/plain": [
       "<Figure size 1000x500 with 0 Axes>"
      ]
     },
     "metadata": {},
     "output_type": "display_data"
    },
    {
     "data": {
      "text/plain": [
       "<Figure size 1000x500 with 0 Axes>"
      ]
     },
     "metadata": {},
     "output_type": "display_data"
    },
    {
     "data": {
      "text/plain": [
       "<Figure size 1000x500 with 0 Axes>"
      ]
     },
     "metadata": {},
     "output_type": "display_data"
    },
    {
     "data": {
      "text/plain": [
       "<Figure size 1000x500 with 0 Axes>"
      ]
     },
     "metadata": {},
     "output_type": "display_data"
    },
    {
     "data": {
      "text/plain": [
       "<Figure size 1000x500 with 0 Axes>"
      ]
     },
     "metadata": {},
     "output_type": "display_data"
    },
    {
     "data": {
      "text/plain": [
       "<Figure size 1000x500 with 0 Axes>"
      ]
     },
     "metadata": {},
     "output_type": "display_data"
    },
    {
     "data": {
      "text/plain": [
       "<Figure size 1000x500 with 0 Axes>"
      ]
     },
     "metadata": {},
     "output_type": "display_data"
    },
    {
     "data": {
      "text/plain": [
       "<Figure size 1000x500 with 0 Axes>"
      ]
     },
     "metadata": {},
     "output_type": "display_data"
    },
    {
     "data": {
      "text/plain": [
       "<Figure size 1000x500 with 0 Axes>"
      ]
     },
     "metadata": {},
     "output_type": "display_data"
    },
    {
     "data": {
      "text/plain": [
       "<Figure size 1000x500 with 0 Axes>"
      ]
     },
     "metadata": {},
     "output_type": "display_data"
    },
    {
     "data": {
      "text/plain": [
       "<Figure size 1000x500 with 0 Axes>"
      ]
     },
     "metadata": {},
     "output_type": "display_data"
    },
    {
     "data": {
      "text/plain": [
       "<Figure size 1000x500 with 0 Axes>"
      ]
     },
     "metadata": {},
     "output_type": "display_data"
    },
    {
     "data": {
      "text/plain": [
       "<Figure size 1000x500 with 0 Axes>"
      ]
     },
     "metadata": {},
     "output_type": "display_data"
    },
    {
     "data": {
      "text/plain": [
       "<Figure size 1000x500 with 0 Axes>"
      ]
     },
     "metadata": {},
     "output_type": "display_data"
    },
    {
     "data": {
      "text/plain": [
       "<Figure size 1000x500 with 0 Axes>"
      ]
     },
     "metadata": {},
     "output_type": "display_data"
    },
    {
     "data": {
      "text/plain": [
       "<Figure size 1000x500 with 0 Axes>"
      ]
     },
     "metadata": {},
     "output_type": "display_data"
    },
    {
     "data": {
      "text/plain": [
       "<Figure size 1000x500 with 0 Axes>"
      ]
     },
     "metadata": {},
     "output_type": "display_data"
    },
    {
     "data": {
      "text/plain": [
       "<Figure size 1000x500 with 0 Axes>"
      ]
     },
     "metadata": {},
     "output_type": "display_data"
    },
    {
     "data": {
      "text/plain": [
       "<Figure size 1000x500 with 0 Axes>"
      ]
     },
     "metadata": {},
     "output_type": "display_data"
    },
    {
     "data": {
      "text/plain": [
       "<Figure size 1000x500 with 0 Axes>"
      ]
     },
     "metadata": {},
     "output_type": "display_data"
    }
   ],
   "source": [
    "# Load the model_s20\n",
    "model = tf.keras.models.load_model('exported_models/model_s20.keras')\n",
    "\n",
    "# Initialize pandas dataframe for model_s20\n",
    "len_symbols = len(stock_symbols)\n",
    "df_model_s20 = pd.DataFrame({\n",
    "    'MSE': [0 for _ in range(len_symbols)],\n",
    "    'RMSE': [0 for _ in range(len_symbols)],\n",
    "    'MAE': [0 for _ in range(len_symbols)],\n",
    "    'MAPE': [0 for _ in range(len_symbols)]\n",
    "}, index=[stock for stock in stock_symbols])\n",
    "\n",
    "# Predict for all stocks using model_s20\n",
    "for stock in stock_symbols:\n",
    "    predictions = model.predict(X_stock_dict[stock][3])\n",
    "    # Plot each one\n",
    "    plt.figure(figsize=(10, 5))\n",
    "    plt.plot(stock_dict[stock][0], label=f'Actual for {stock}')\n",
    "    plt.plot(predictions, label='Predicted (window_size = 20)')\n",
    "    plt.title(f\"Actual vs Predictions using model_s20 for {stock}\")\n",
    "    plt.legend()\n",
    "    makedirs('./results/test_validation/graphs/model_s20', exist_ok=True)\n",
    "    plt.savefig(f'./results/test_validation/graphs/model_s20/{stock}.png')\n",
    "    plt.clf()\n",
    "\n",
    "    len_predictions = len(predictions)\n",
    "    df_model_s20.loc[stock, 'MSE'] = mean_squared_error(stock_dict[stock][20:], predictions)\n",
    "    df_model_s20.loc[stock, 'RMSE'] = sqrt(mean_squared_error(stock_dict[stock][20:], predictions))\n",
    "    df_model_s20.loc[stock, 'MAE']= mean_absolute_error(stock_dict[stock][20:], predictions)\n",
    "    df_model_s20.loc[stock, 'MAPE'] = mean_absolute_percentage_error(stock_dict[stock][20:], predictions)"
   ]
  },
  {
   "cell_type": "code",
   "execution_count": 13,
   "metadata": {},
   "outputs": [],
   "source": [
    "# Save the dataframe in ./results/test_validation/model\n",
    "makedirs('./results/test_validation/model', exist_ok=True)\n",
    "df_model_s20.to_csv('./results/test_validation/model/model_s20.csv')"
   ]
  },
  {
   "cell_type": "code",
   "execution_count": 14,
   "metadata": {},
   "outputs": [
    {
     "name": "stdout",
     "output_type": "stream",
     "text": [
      "211/211 [==============================] - 0s 882us/step\n",
      "204/204 [==============================] - 0s 830us/step\n",
      "158/158 [==============================] - 0s 871us/step\n",
      "130/130 [==============================] - 0s 916us/step\n",
      "213/213 [==============================] - 0s 850us/step\n",
      "212/212 [==============================] - 0s 1ms/step\n",
      "213/213 [==============================] - 0s 891us/step\n",
      "213/213 [==============================] - 0s 912us/step\n",
      "210/210 [==============================] - 0s 824us/step\n",
      "95/95 [==============================] - 0s 1ms/step\n",
      "184/184 [==============================] - 0s 879us/step\n",
      "213/213 [==============================] - 0s 879us/step\n",
      "213/213 [==============================] - 0s 868us/step\n",
      "87/87 [==============================] - 0s 885us/step\n",
      "118/118 [==============================] - 0s 813us/step\n",
      "122/122 [==============================] - 0s 850us/step\n",
      "119/119 [==============================] - 0s 905us/step\n",
      "71/71 [==============================] - 0s 1ms/step\n",
      "192/192 [==============================] - 0s 820us/step\n",
      "36/36 [==============================] - 0s 970us/step\n"
     ]
    },
    {
     "data": {
      "text/plain": [
       "<Figure size 1000x500 with 0 Axes>"
      ]
     },
     "metadata": {},
     "output_type": "display_data"
    },
    {
     "data": {
      "text/plain": [
       "<Figure size 1000x500 with 0 Axes>"
      ]
     },
     "metadata": {},
     "output_type": "display_data"
    },
    {
     "data": {
      "text/plain": [
       "<Figure size 1000x500 with 0 Axes>"
      ]
     },
     "metadata": {},
     "output_type": "display_data"
    },
    {
     "data": {
      "text/plain": [
       "<Figure size 1000x500 with 0 Axes>"
      ]
     },
     "metadata": {},
     "output_type": "display_data"
    },
    {
     "data": {
      "text/plain": [
       "<Figure size 1000x500 with 0 Axes>"
      ]
     },
     "metadata": {},
     "output_type": "display_data"
    },
    {
     "data": {
      "text/plain": [
       "<Figure size 1000x500 with 0 Axes>"
      ]
     },
     "metadata": {},
     "output_type": "display_data"
    },
    {
     "data": {
      "text/plain": [
       "<Figure size 1000x500 with 0 Axes>"
      ]
     },
     "metadata": {},
     "output_type": "display_data"
    },
    {
     "data": {
      "text/plain": [
       "<Figure size 1000x500 with 0 Axes>"
      ]
     },
     "metadata": {},
     "output_type": "display_data"
    },
    {
     "data": {
      "text/plain": [
       "<Figure size 1000x500 with 0 Axes>"
      ]
     },
     "metadata": {},
     "output_type": "display_data"
    },
    {
     "data": {
      "text/plain": [
       "<Figure size 1000x500 with 0 Axes>"
      ]
     },
     "metadata": {},
     "output_type": "display_data"
    },
    {
     "data": {
      "text/plain": [
       "<Figure size 1000x500 with 0 Axes>"
      ]
     },
     "metadata": {},
     "output_type": "display_data"
    },
    {
     "data": {
      "text/plain": [
       "<Figure size 1000x500 with 0 Axes>"
      ]
     },
     "metadata": {},
     "output_type": "display_data"
    },
    {
     "data": {
      "text/plain": [
       "<Figure size 1000x500 with 0 Axes>"
      ]
     },
     "metadata": {},
     "output_type": "display_data"
    },
    {
     "data": {
      "text/plain": [
       "<Figure size 1000x500 with 0 Axes>"
      ]
     },
     "metadata": {},
     "output_type": "display_data"
    },
    {
     "data": {
      "text/plain": [
       "<Figure size 1000x500 with 0 Axes>"
      ]
     },
     "metadata": {},
     "output_type": "display_data"
    },
    {
     "data": {
      "text/plain": [
       "<Figure size 1000x500 with 0 Axes>"
      ]
     },
     "metadata": {},
     "output_type": "display_data"
    },
    {
     "data": {
      "text/plain": [
       "<Figure size 1000x500 with 0 Axes>"
      ]
     },
     "metadata": {},
     "output_type": "display_data"
    },
    {
     "data": {
      "text/plain": [
       "<Figure size 1000x500 with 0 Axes>"
      ]
     },
     "metadata": {},
     "output_type": "display_data"
    },
    {
     "data": {
      "text/plain": [
       "<Figure size 1000x500 with 0 Axes>"
      ]
     },
     "metadata": {},
     "output_type": "display_data"
    },
    {
     "data": {
      "text/plain": [
       "<Figure size 1000x500 with 0 Axes>"
      ]
     },
     "metadata": {},
     "output_type": "display_data"
    }
   ],
   "source": [
    "# Load the model_baseline5\n",
    "model = tf.keras.models.load_model('exported_models/model_baseline5.keras')\n",
    "\n",
    "# Initialize pandas dataframe for model_baseline5\n",
    "len_symbols = len(stock_symbols)\n",
    "df_model_baseline5 = pd.DataFrame({\n",
    "    'MSE': [0 for _ in range(len_symbols)],\n",
    "    'RMSE': [0 for _ in range(len_symbols)],\n",
    "    'MAE': [0 for _ in range(len_symbols)],\n",
    "    'MAPE': [0 for _ in range(len_symbols)]\n",
    "}, index=[stock for stock in stock_symbols])\n",
    "\n",
    "# Predict for all stocks using model_baseline5\n",
    "for stock in stock_symbols:\n",
    "    predictions = model.predict(X_stock_dict[stock][0])\n",
    "    # Plot each one\n",
    "    plt.figure(figsize=(10, 5))\n",
    "    plt.plot(stock_dict[stock][0], label=f'Actual for {stock}')\n",
    "    plt.plot(predictions, label='Predicted (window_size = 5)')\n",
    "    plt.title(f\"Actual vs Predictions using model_baseline5 for {stock}\")\n",
    "    plt.legend()\n",
    "    makedirs('./results/test_validation/graphs/model_baseline5', exist_ok=True)\n",
    "    plt.savefig(f'./results/test_validation/graphs/model_baseline5/{stock}.png')\n",
    "    plt.clf()\n",
    "\n",
    "    len_predictions = len(predictions)\n",
    "    df_model_baseline5.loc[stock, 'MSE'] = mean_squared_error(stock_dict[stock][5:], predictions)\n",
    "    df_model_baseline5.loc[stock, 'RMSE'] = sqrt(mean_squared_error(stock_dict[stock][5:], predictions))\n",
    "    df_model_baseline5.loc[stock, 'MAE']= mean_absolute_error(stock_dict[stock][5:], predictions)\n",
    "    df_model_baseline5.loc[stock, 'MAPE'] = mean_absolute_percentage_error(stock_dict[stock][5:], predictions)"
   ]
  },
  {
   "cell_type": "code",
   "execution_count": 15,
   "metadata": {},
   "outputs": [],
   "source": [
    "# Save the dataframe in ./results/test_validation/model\n",
    "makedirs('./results/test_validation/model', exist_ok=True)\n",
    "df_model_baseline5.to_csv('./results/test_validation/model/model_baseline5.csv')"
   ]
  },
  {
   "cell_type": "code",
   "execution_count": 16,
   "metadata": {},
   "outputs": [
    {
     "name": "stdout",
     "output_type": "stream",
     "text": [
      "211/211 [==============================] - 0s 814us/step\n",
      "204/204 [==============================] - 0s 896us/step\n",
      "158/158 [==============================] - 0s 1ms/step\n",
      "130/130 [==============================] - 0s 930us/step\n",
      "213/213 [==============================] - 0s 1ms/step\n",
      "212/212 [==============================] - 0s 844us/step\n",
      "213/213 [==============================] - 0s 915us/step\n",
      "213/213 [==============================] - 0s 1ms/step\n",
      "210/210 [==============================] - 0s 965us/step\n",
      "95/95 [==============================] - 0s 1ms/step\n",
      "184/184 [==============================] - 0s 1ms/step\n",
      "213/213 [==============================] - 0s 1ms/step\n",
      "213/213 [==============================] - 0s 948us/step\n",
      "86/86 [==============================] - 0s 1ms/step\n",
      "118/118 [==============================] - 0s 1ms/step\n",
      "122/122 [==============================] - 0s 1ms/step\n",
      "119/119 [==============================] - 0s 1ms/step\n",
      "71/71 [==============================] - 0s 1ms/step\n",
      "192/192 [==============================] - 0s 1ms/step\n",
      "36/36 [==============================] - 0s 1ms/step\n"
     ]
    },
    {
     "data": {
      "text/plain": [
       "<Figure size 1000x500 with 0 Axes>"
      ]
     },
     "metadata": {},
     "output_type": "display_data"
    },
    {
     "data": {
      "text/plain": [
       "<Figure size 1000x500 with 0 Axes>"
      ]
     },
     "metadata": {},
     "output_type": "display_data"
    },
    {
     "data": {
      "text/plain": [
       "<Figure size 1000x500 with 0 Axes>"
      ]
     },
     "metadata": {},
     "output_type": "display_data"
    },
    {
     "data": {
      "text/plain": [
       "<Figure size 1000x500 with 0 Axes>"
      ]
     },
     "metadata": {},
     "output_type": "display_data"
    },
    {
     "data": {
      "text/plain": [
       "<Figure size 1000x500 with 0 Axes>"
      ]
     },
     "metadata": {},
     "output_type": "display_data"
    },
    {
     "data": {
      "text/plain": [
       "<Figure size 1000x500 with 0 Axes>"
      ]
     },
     "metadata": {},
     "output_type": "display_data"
    },
    {
     "data": {
      "text/plain": [
       "<Figure size 1000x500 with 0 Axes>"
      ]
     },
     "metadata": {},
     "output_type": "display_data"
    },
    {
     "data": {
      "text/plain": [
       "<Figure size 1000x500 with 0 Axes>"
      ]
     },
     "metadata": {},
     "output_type": "display_data"
    },
    {
     "data": {
      "text/plain": [
       "<Figure size 1000x500 with 0 Axes>"
      ]
     },
     "metadata": {},
     "output_type": "display_data"
    },
    {
     "data": {
      "text/plain": [
       "<Figure size 1000x500 with 0 Axes>"
      ]
     },
     "metadata": {},
     "output_type": "display_data"
    },
    {
     "data": {
      "text/plain": [
       "<Figure size 1000x500 with 0 Axes>"
      ]
     },
     "metadata": {},
     "output_type": "display_data"
    },
    {
     "data": {
      "text/plain": [
       "<Figure size 1000x500 with 0 Axes>"
      ]
     },
     "metadata": {},
     "output_type": "display_data"
    },
    {
     "data": {
      "text/plain": [
       "<Figure size 1000x500 with 0 Axes>"
      ]
     },
     "metadata": {},
     "output_type": "display_data"
    },
    {
     "data": {
      "text/plain": [
       "<Figure size 1000x500 with 0 Axes>"
      ]
     },
     "metadata": {},
     "output_type": "display_data"
    },
    {
     "data": {
      "text/plain": [
       "<Figure size 1000x500 with 0 Axes>"
      ]
     },
     "metadata": {},
     "output_type": "display_data"
    },
    {
     "data": {
      "text/plain": [
       "<Figure size 1000x500 with 0 Axes>"
      ]
     },
     "metadata": {},
     "output_type": "display_data"
    },
    {
     "data": {
      "text/plain": [
       "<Figure size 1000x500 with 0 Axes>"
      ]
     },
     "metadata": {},
     "output_type": "display_data"
    },
    {
     "data": {
      "text/plain": [
       "<Figure size 1000x500 with 0 Axes>"
      ]
     },
     "metadata": {},
     "output_type": "display_data"
    },
    {
     "data": {
      "text/plain": [
       "<Figure size 1000x500 with 0 Axes>"
      ]
     },
     "metadata": {},
     "output_type": "display_data"
    },
    {
     "data": {
      "text/plain": [
       "<Figure size 1000x500 with 0 Axes>"
      ]
     },
     "metadata": {},
     "output_type": "display_data"
    }
   ],
   "source": [
    "# Load the model_baseline10\n",
    "model = tf.keras.models.load_model('exported_models/model_baseline10.keras')\n",
    "\n",
    "# Initialize pandas dataframe for model_baseline10\n",
    "len_symbols = len(stock_symbols)\n",
    "df_model_baseline10 = pd.DataFrame({\n",
    "    'MSE': [0 for _ in range(len_symbols)],\n",
    "    'RMSE': [0 for _ in range(len_symbols)],\n",
    "    'MAE': [0 for _ in range(len_symbols)],\n",
    "    'MAPE': [0 for _ in range(len_symbols)]\n",
    "}, index=[stock for stock in stock_symbols])\n",
    "\n",
    "# Predict for all stocks using model_baseline10\n",
    "for stock in stock_symbols:\n",
    "    predictions = model.predict(X_stock_dict[stock][1])\n",
    "    # Plot each one\n",
    "    plt.figure(figsize=(10, 5))\n",
    "    plt.plot(stock_dict[stock][0], label=f'Actual for {stock}')\n",
    "    plt.plot(predictions, label='Predicted (window_size = 10)')\n",
    "    plt.title(f\"Actual vs Predictions using model_baseline10 for {stock}\")\n",
    "    plt.legend()\n",
    "    makedirs('./results/test_validation/graphs/model_baseline10', exist_ok=True)\n",
    "    plt.savefig(f'./results/test_validation/graphs/model_baseline10/{stock}.png')\n",
    "    plt.clf()\n",
    "\n",
    "    len_predictions = len(predictions)\n",
    "    df_model_baseline10.loc[stock, 'MSE'] = mean_squared_error(stock_dict[stock][10:], predictions)\n",
    "    df_model_baseline10.loc[stock, 'RMSE'] = sqrt(mean_squared_error(stock_dict[stock][10:], predictions))\n",
    "    df_model_baseline10.loc[stock, 'MAE']= mean_absolute_error(stock_dict[stock][10:], predictions)\n",
    "    df_model_baseline10.loc[stock, 'MAPE'] = mean_absolute_percentage_error(stock_dict[stock][10:], predictions)"
   ]
  },
  {
   "cell_type": "code",
   "execution_count": 17,
   "metadata": {},
   "outputs": [],
   "source": [
    "makedirs('./results/test_validation/model', exist_ok=True)\n",
    "df_model_baseline10.to_csv('./results/test_validation/model/model_baseline10.csv')"
   ]
  },
  {
   "cell_type": "code",
   "execution_count": 18,
   "metadata": {},
   "outputs": [
    {
     "name": "stdout",
     "output_type": "stream",
     "text": [
      "211/211 [==============================] - 0s 976us/step\n",
      "204/204 [==============================] - 0s 1ms/step\n",
      "158/158 [==============================] - 0s 1ms/step\n",
      "129/129 [==============================] - 0s 1ms/step\n",
      "213/213 [==============================] - 0s 2ms/step\n",
      "212/212 [==============================] - 0s 1ms/step\n",
      "212/212 [==============================] - 0s 1ms/step\n",
      "213/213 [==============================] - 0s 1ms/step\n",
      "210/210 [==============================] - 0s 1ms/step\n",
      "95/95 [==============================] - 0s 1ms/step\n",
      "184/184 [==============================] - 0s 1ms/step\n",
      "212/212 [==============================] - 0s 1ms/step\n",
      "213/213 [==============================] - 0s 1ms/step\n",
      "86/86 [==============================] - 0s 1ms/step\n",
      "118/118 [==============================] - 0s 1ms/step\n",
      "122/122 [==============================] - 0s 1ms/step\n",
      "119/119 [==============================] - 0s 1ms/step\n",
      "70/70 [==============================] - 0s 1ms/step\n",
      "192/192 [==============================] - 0s 986us/step\n",
      "35/35 [==============================] - 0s 1ms/step\n"
     ]
    },
    {
     "data": {
      "text/plain": [
       "<Figure size 640x480 with 0 Axes>"
      ]
     },
     "metadata": {},
     "output_type": "display_data"
    }
   ],
   "source": [
    "# Load the model_baseline15\n",
    "model = tf.keras.models.load_model('exported_models/model_baseline15.keras')\n",
    "\n",
    "# Initialize pandas dataframe for model_baseline15\n",
    "len_symbols = len(stock_symbols)\n",
    "df_model_baseline15 = pd.DataFrame({\n",
    "    'MSE': [0 for _ in range(len_symbols)],\n",
    "    'RMSE': [0 for _ in range(len_symbols)],\n",
    "    'MAE': [0 for _ in range(len_symbols)],\n",
    "    'MAPE': [0 for _ in range(len_symbols)]\n",
    "}, index=[stock for stock in stock_symbols])\n",
    "\n",
    "# Predict for all stocks using model_baseline15\n",
    "for stock in stock_symbols:\n",
    "    predictions = model.predict(X_stock_dict[stock][2])\n",
    "    # Plot each one\n",
    "    plt.plot(stock_dict[stock][0], label=f'Actual for {stock}')\n",
    "    plt.plot(predictions, label='Predicted (window_size = 15)')\n",
    "    plt.title(f\"Actual vs Predictions using model_baseline15 for {stock}\")\n",
    "    plt.legend()\n",
    "    makedirs('./results/test_validation/graphs/model_baseline15', exist_ok=True)\n",
    "    plt.savefig(f'./results/test_validation/graphs/model_baseline15/{stock}.png')\n",
    "    plt.clf()\n",
    "\n",
    "    len_predictions = len(predictions)\n",
    "    df_model_baseline15.loc[stock, 'MSE'] = mean_squared_error(stock_dict[stock][15:], predictions)\n",
    "    df_model_baseline15.loc[stock, 'RMSE'] = sqrt(mean_squared_error(stock_dict[stock][15:], predictions))\n",
    "    df_model_baseline15.loc[stock, 'MAE']= mean_absolute_error(stock_dict[stock][15:], predictions)\n",
    "    df_model_baseline15.loc[stock, 'MAPE'] = mean_absolute_percentage_error(stock_dict[stock][15:], predictions)"
   ]
  },
  {
   "cell_type": "code",
   "execution_count": 19,
   "metadata": {},
   "outputs": [],
   "source": [
    "makedirs('./results/test_validation/model', exist_ok=True)\n",
    "df_model_baseline15.to_csv('./results/test_validation/model/model_baseline15.csv')"
   ]
  },
  {
   "cell_type": "code",
   "execution_count": 20,
   "metadata": {},
   "outputs": [
    {
     "name": "stdout",
     "output_type": "stream",
     "text": [
      "211/211 [==============================] - 0s 1ms/step\n",
      "204/204 [==============================] - 0s 1ms/step\n",
      "157/157 [==============================] - 0s 1ms/step\n",
      "129/129 [==============================] - 0s 1ms/step\n",
      "213/213 [==============================] - 0s 1ms/step\n",
      "212/212 [==============================] - 0s 1ms/step\n",
      "212/212 [==============================] - 0s 1ms/step\n",
      "213/213 [==============================] - 0s 1ms/step\n",
      "209/209 [==============================] - 0s 1ms/step\n",
      "95/95 [==============================] - 0s 1ms/step\n",
      "184/184 [==============================] - 0s 1ms/step\n",
      "212/212 [==============================] - 0s 1ms/step\n",
      "213/213 [==============================] - 0s 1ms/step\n",
      "86/86 [==============================] - 0s 1ms/step\n",
      "118/118 [==============================] - 0s 1ms/step\n",
      "121/121 [==============================] - 0s 1ms/step\n",
      "118/118 [==============================] - 0s 1ms/step\n",
      "70/70 [==============================] - 0s 1ms/step\n",
      "192/192 [==============================] - 0s 1ms/step\n",
      "35/35 [==============================] - 0s 1ms/step\n"
     ]
    },
    {
     "data": {
      "text/plain": [
       "<Figure size 1000x500 with 0 Axes>"
      ]
     },
     "metadata": {},
     "output_type": "display_data"
    },
    {
     "data": {
      "text/plain": [
       "<Figure size 1000x500 with 0 Axes>"
      ]
     },
     "metadata": {},
     "output_type": "display_data"
    },
    {
     "data": {
      "text/plain": [
       "<Figure size 1000x500 with 0 Axes>"
      ]
     },
     "metadata": {},
     "output_type": "display_data"
    },
    {
     "data": {
      "text/plain": [
       "<Figure size 1000x500 with 0 Axes>"
      ]
     },
     "metadata": {},
     "output_type": "display_data"
    },
    {
     "data": {
      "text/plain": [
       "<Figure size 1000x500 with 0 Axes>"
      ]
     },
     "metadata": {},
     "output_type": "display_data"
    },
    {
     "data": {
      "text/plain": [
       "<Figure size 1000x500 with 0 Axes>"
      ]
     },
     "metadata": {},
     "output_type": "display_data"
    },
    {
     "data": {
      "text/plain": [
       "<Figure size 1000x500 with 0 Axes>"
      ]
     },
     "metadata": {},
     "output_type": "display_data"
    },
    {
     "data": {
      "text/plain": [
       "<Figure size 1000x500 with 0 Axes>"
      ]
     },
     "metadata": {},
     "output_type": "display_data"
    },
    {
     "data": {
      "text/plain": [
       "<Figure size 1000x500 with 0 Axes>"
      ]
     },
     "metadata": {},
     "output_type": "display_data"
    },
    {
     "data": {
      "text/plain": [
       "<Figure size 1000x500 with 0 Axes>"
      ]
     },
     "metadata": {},
     "output_type": "display_data"
    },
    {
     "data": {
      "text/plain": [
       "<Figure size 1000x500 with 0 Axes>"
      ]
     },
     "metadata": {},
     "output_type": "display_data"
    },
    {
     "data": {
      "text/plain": [
       "<Figure size 1000x500 with 0 Axes>"
      ]
     },
     "metadata": {},
     "output_type": "display_data"
    },
    {
     "data": {
      "text/plain": [
       "<Figure size 1000x500 with 0 Axes>"
      ]
     },
     "metadata": {},
     "output_type": "display_data"
    },
    {
     "data": {
      "text/plain": [
       "<Figure size 1000x500 with 0 Axes>"
      ]
     },
     "metadata": {},
     "output_type": "display_data"
    },
    {
     "data": {
      "text/plain": [
       "<Figure size 1000x500 with 0 Axes>"
      ]
     },
     "metadata": {},
     "output_type": "display_data"
    },
    {
     "data": {
      "text/plain": [
       "<Figure size 1000x500 with 0 Axes>"
      ]
     },
     "metadata": {},
     "output_type": "display_data"
    },
    {
     "data": {
      "text/plain": [
       "<Figure size 1000x500 with 0 Axes>"
      ]
     },
     "metadata": {},
     "output_type": "display_data"
    },
    {
     "data": {
      "text/plain": [
       "<Figure size 1000x500 with 0 Axes>"
      ]
     },
     "metadata": {},
     "output_type": "display_data"
    },
    {
     "data": {
      "text/plain": [
       "<Figure size 1000x500 with 0 Axes>"
      ]
     },
     "metadata": {},
     "output_type": "display_data"
    },
    {
     "data": {
      "text/plain": [
       "<Figure size 1000x500 with 0 Axes>"
      ]
     },
     "metadata": {},
     "output_type": "display_data"
    }
   ],
   "source": [
    "# Load the model_baseline20\n",
    "model = tf.keras.models.load_model('exported_models/model_baseline20.keras')\n",
    "\n",
    "# Initialize pandas dataframe for model_baseline20\n",
    "len_symbols = len(stock_symbols)\n",
    "df_model_baseline20 = pd.DataFrame({\n",
    "    'MSE': [0 for _ in range(len_symbols)],\n",
    "    'RMSE': [0 for _ in range(len_symbols)],\n",
    "    'MAE': [0 for _ in range(len_symbols)],\n",
    "    'MAPE': [0 for _ in range(len_symbols)]\n",
    "}, index=[stock for stock in stock_symbols])\n",
    "\n",
    "# Predict for all stocks using model_baseline20\n",
    "for stock in stock_symbols:\n",
    "    predictions = model.predict(X_stock_dict[stock][3])\n",
    "    # Plot each one\n",
    "    plt.figure(figsize=(10, 5))\n",
    "    plt.plot(stock_dict[stock][0], label=f'Actual for {stock}')\n",
    "    plt.plot(predictions, label='Predicted (window_size = 20)')\n",
    "    plt.title(f\"Actual vs Predictions using model_baseline20 for {stock}\")\n",
    "    plt.legend()\n",
    "    makedirs('./results/test_validation/graphs/model_baseline20', exist_ok=True)\n",
    "    plt.savefig(f'./results/test_validation/graphs/model_baseline20/{stock}.png')\n",
    "    plt.clf()\n",
    "\n",
    "    len_predictions = len(predictions)\n",
    "    df_model_baseline20.loc[stock, 'MSE'] = mean_squared_error(stock_dict[stock][20:], predictions)\n",
    "    df_model_baseline20.loc[stock, 'RMSE'] = sqrt(mean_squared_error(stock_dict[stock][20:], predictions))\n",
    "    df_model_baseline20.loc[stock, 'MAE']= mean_absolute_error(stock_dict[stock][20:], predictions)\n",
    "    df_model_baseline20.loc[stock, 'MAPE'] = mean_absolute_percentage_error(stock_dict[stock][20:], predictions)"
   ]
  },
  {
   "cell_type": "code",
   "execution_count": 21,
   "metadata": {},
   "outputs": [],
   "source": [
    "makedirs('./results/test_validation/model', exist_ok=True)\n",
    "df_model_baseline20.to_csv('./results/test_validation/model/model_baseline20.csv')"
   ]
  }
 ],
 "metadata": {
  "kernelspec": {
   "display_name": "Python 3",
   "language": "python",
   "name": "python3"
  },
  "language_info": {
   "codemirror_mode": {
    "name": "ipython",
    "version": 3
   },
   "file_extension": ".py",
   "mimetype": "text/x-python",
   "name": "python",
   "nbconvert_exporter": "python",
   "pygments_lexer": "ipython3",
   "version": "3.9.10"
  },
  "orig_nbformat": 4,
  "vscode": {
   "interpreter": {
    "hash": "c73b41b33398381a63dda394fd0b0cb02413d3de08933cb9c9d1d83148e4d367"
   }
  }
 },
 "nbformat": 4,
 "nbformat_minor": 2
}
