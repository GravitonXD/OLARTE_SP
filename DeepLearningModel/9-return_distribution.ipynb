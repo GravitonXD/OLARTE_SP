{
 "cells": [
  {
   "attachments": {},
   "cell_type": "markdown",
   "metadata": {},
   "source": [
    "# Calculates the daily return distribution of each stock in the PSEI and plots it"
   ]
  },
  {
   "cell_type": "code",
   "execution_count": 1,
   "metadata": {},
   "outputs": [],
   "source": [
    "import numpy as np\n",
    "import matplotlib.pyplot as plt\n",
    "import pandas as pd"
   ]
  },
  {
   "cell_type": "code",
   "execution_count": 2,
   "metadata": {},
   "outputs": [],
   "source": [
    "def return_distribution(closing_prices, stock):\n",
    "    # Calculate the daily returns in percentage terms\n",
    "    daily_returns = np.diff(closing_prices) / closing_prices[:-1] * 100\n",
    "\n",
    "    # Plot the histogram of daily returns\n",
    "    plt.hist(daily_returns, bins=1_000)\n",
    "    plt.title(f'Distribution of daily returns for {stock}')\n",
    "    plt.xlabel('Daily returns (%)')\n",
    "    plt.ylabel('Frequency')\n",
    "    plt.show()\n",
    "\n",
    "    # Return the (daily_return, frequency in percentage) as a tuple of two numpy arrays\n",
    "    return np.unique(daily_returns, return_counts=True)     "
   ]
  },
  {
   "cell_type": "code",
   "execution_count": 3,
   "metadata": {},
   "outputs": [],
   "source": [
    "def value_at_risk(returns):\n",
    "    return np.percentile(returns[0], 5)"
   ]
  },
  {
   "cell_type": "code",
   "execution_count": 4,
   "metadata": {},
   "outputs": [],
   "source": [
    "def volatility(returns):\n",
    "    return np.std(returns[0])"
   ]
  },
  {
   "cell_type": "code",
   "execution_count": 5,
   "metadata": {},
   "outputs": [],
   "source": [
    "def drawdown(returns):\n",
    "    return np.max(returns[0]) - np.min(returns[0])"
   ]
  },
  {
   "cell_type": "code",
   "execution_count": 6,
   "metadata": {},
   "outputs": [],
   "source": [
    "stock_dict = {\n",
    "    'MEG': [],\n",
    "    'JGS': [],\n",
    "    'BDO': [],\n",
    "    'FGEN': [],\n",
    "    'ICT': [],\n",
    "    'ALI': [],\n",
    "    'SMC': [],\n",
    "    'TEL': [],\n",
    "    'GLO': [],\n",
    "    'BLOOM': [],\n",
    "    'RLC': [],\n",
    "    'MER': [],\n",
    "    'AC': [],\n",
    "    'PGOLD': [],\n",
    "    'LTG': [],\n",
    "    'MPI': [],\n",
    "    'AP': [],\n",
    "    'RRHI': [],\n",
    "    'URC': [],\n",
    "    'PSEI': [],\n",
    "}"
   ]
  },
  {
   "cell_type": "code",
   "execution_count": 7,
   "metadata": {},
   "outputs": [],
   "source": [
    "# Load data\n",
    "for index, key in enumerate(stock_dict):\n",
    "    # Loading of datasets to the dictionary of stocks\n",
    "    # We will only use the closing prices, hence we set usecols to index:4\n",
    "    data = np.genfromtxt(f'data/{key}.csv', delimiter=',', skip_header=1, usecols=4)\n",
    "    stock_dict[key] = data"
   ]
  },
  {
   "cell_type": "code",
   "execution_count": 8,
   "metadata": {},
   "outputs": [
    {
     "ename": "UFuncTypeError",
     "evalue": "ufunc 'divide' cannot use operands with types dtype('<m8[D]') and dtype('<M8[D]')",
     "output_type": "error",
     "traceback": [
      "\u001b[1;31m---------------------------------------------------------------------------\u001b[0m",
      "\u001b[1;31mUFuncTypeError\u001b[0m                            Traceback (most recent call last)",
      "Cell \u001b[1;32mIn[8], line 6\u001b[0m\n\u001b[0;32m      2\u001b[0m df \u001b[39m=\u001b[39m pd\u001b[39m.\u001b[39mDataFrame(columns\u001b[39m=\u001b[39m[\u001b[39m'\u001b[39m\u001b[39mstock\u001b[39m\u001b[39m'\u001b[39m, \u001b[39m'\u001b[39m\u001b[39mvalue_at_risk\u001b[39m\u001b[39m%\u001b[39m\u001b[39m'\u001b[39m, \u001b[39m'\u001b[39m\u001b[39mvolatility\u001b[39m\u001b[39m%\u001b[39m\u001b[39m'\u001b[39m, \u001b[39m'\u001b[39m\u001b[39mdrawdown\u001b[39m\u001b[39m%\u001b[39m\u001b[39m'\u001b[39m, \u001b[39m'\u001b[39m\u001b[39mstart_date\u001b[39m\u001b[39m'\u001b[39m, \u001b[39m'\u001b[39m\u001b[39mend_date\u001b[39m\u001b[39m'\u001b[39m])\n\u001b[0;32m      4\u001b[0m \u001b[39mfor\u001b[39;00m stock \u001b[39min\u001b[39;00m stock_dict:\n\u001b[0;32m      5\u001b[0m     \u001b[39m# Return Distribution\u001b[39;00m\n\u001b[1;32m----> 6\u001b[0m     returns \u001b[39m=\u001b[39m return_distribution(np\u001b[39m.\u001b[39;49marray(stock_dict[stock]), stock)\n\u001b[0;32m      7\u001b[0m     \u001b[39m# Value at Risk\u001b[39;00m\n\u001b[0;32m      8\u001b[0m     var \u001b[39m=\u001b[39m value_at_risk(returns)\n",
      "Cell \u001b[1;32mIn[2], line 3\u001b[0m, in \u001b[0;36mreturn_distribution\u001b[1;34m(closing_prices, stock)\u001b[0m\n\u001b[0;32m      1\u001b[0m \u001b[39mdef\u001b[39;00m \u001b[39mreturn_distribution\u001b[39m(closing_prices, stock):\n\u001b[0;32m      2\u001b[0m     \u001b[39m# Calculate the daily returns in percentage terms\u001b[39;00m\n\u001b[1;32m----> 3\u001b[0m     daily_returns \u001b[39m=\u001b[39m np\u001b[39m.\u001b[39;49mdiff(closing_prices) \u001b[39m/\u001b[39;49m closing_prices[:\u001b[39m-\u001b[39;49m\u001b[39m1\u001b[39;49m] \u001b[39m*\u001b[39m \u001b[39m100\u001b[39m\n\u001b[0;32m      5\u001b[0m     \u001b[39m# Plot the histogram of daily returns\u001b[39;00m\n\u001b[0;32m      6\u001b[0m     plt\u001b[39m.\u001b[39mhist(daily_returns, bins\u001b[39m=\u001b[39m\u001b[39m1_000\u001b[39m)\n",
      "\u001b[1;31mUFuncTypeError\u001b[0m: ufunc 'divide' cannot use operands with types dtype('<m8[D]') and dtype('<M8[D]')"
     ]
    }
   ],
   "source": [
    "# Initialize a dataframe to store the (value_at_risk, volatility, drawdown) for each stock\n",
    "df = pd.DataFrame(columns=['stock', 'value_at_risk%', 'volatility%', 'drawdown%', 'start_date', 'end_date'])\n",
    "\n",
    "for stock in stock_dict:\n",
    "    # Return Distribution\n",
    "    returns = return_distribution(np.array(stock_dict[stock]), stock)\n",
    "    # Value at Risk\n",
    "    var = value_at_risk(returns)\n",
    "    # Volatility\n",
    "    vol = volatility(returns)\n",
    "    # Drawdown\n",
    "    dd = drawdown(returns)\n",
    "\n",
    "    # start date and end date\n",
    "    data = np.genfromtxt(f'data/{key}.csv', delimiter=',', skip_header=1, usecols=0, dtype=np.datetime64)\n",
    "    start_date = data[0]\n",
    "    end_date = data[-1]\n",
    "\n",
    "    # concat the (value_at_risk, volatility, drawdown) for each stock\n",
    "    df = pd.concat([df, pd.DataFrame([[stock, var, vol, dd, start_date, end_date]], columns=['stock', 'value_at_risk%', 'volatility%', 'drawdown%', 'start_date', 'end_date'])])"
   ]
  },
  {
   "cell_type": "code",
   "execution_count": null,
   "metadata": {},
   "outputs": [],
   "source": [
    "# Export the dataframe to a csv file\n",
    "df.to_csv('./risks_profile/return_distribution.csv', index=False)"
   ]
  },
  {
   "cell_type": "code",
   "execution_count": null,
   "metadata": {},
   "outputs": [],
   "source": [
    "df"
   ]
  }
 ],
 "metadata": {
  "kernelspec": {
   "display_name": "Python 3",
   "language": "python",
   "name": "python3"
  },
  "language_info": {
   "codemirror_mode": {
    "name": "ipython",
    "version": 3
   },
   "file_extension": ".py",
   "mimetype": "text/x-python",
   "name": "python",
   "nbconvert_exporter": "python",
   "pygments_lexer": "ipython3",
   "version": "3.9.10"
  },
  "orig_nbformat": 4
 },
 "nbformat": 4,
 "nbformat_minor": 2
}
