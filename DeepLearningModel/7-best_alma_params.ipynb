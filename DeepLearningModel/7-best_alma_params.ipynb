{
 "cells": [
  {
   "cell_type": "code",
   "execution_count": 1,
   "metadata": {},
   "outputs": [],
   "source": [
    "import numpy as np\n",
    "import matplotlib.pyplot as plt"
   ]
  },
  {
   "cell_type": "code",
   "execution_count": 2,
   "metadata": {},
   "outputs": [],
   "source": [
    "# Define the function for ALMA\n",
    "def alma(data, window_size:int, sigma:float, offset:float):\n",
    "    m = offset * (window_size - 1)\n",
    "    s = window_size / sigma\n",
    "    w = np.exp(-(np.arange(window_size) - m)**2 / (2 * s**2))\n",
    "    w /= w.sum()\n",
    "    return np.convolve(data, w, mode='valid')"
   ]
  },
  {
   "cell_type": "code",
   "execution_count": 3,
   "metadata": {},
   "outputs": [
    {
     "data": {
      "text/plain": [
       "array([2141.77, 2153.18, 2074.75, ..., 6923.08, 6842.79, 6876.79])"
      ]
     },
     "execution_count": 3,
     "metadata": {},
     "output_type": "execute_result"
    }
   ],
   "source": [
    "# Load data\n",
    "closing_prices = np.genfromtxt('./data/PSEI.csv', delimiter=',', skip_header=1, usecols=4)\n",
    "closing_prices"
   ]
  },
  {
   "cell_type": "code",
   "execution_count": 4,
   "metadata": {},
   "outputs": [
    {
     "ename": "TypeError",
     "evalue": "unsupported operand type(s) for -: 'list' and 'int'",
     "output_type": "error",
     "traceback": [
      "\u001b[1;31m---------------------------------------------------------------------------\u001b[0m",
      "\u001b[1;31mTypeError\u001b[0m                                 Traceback (most recent call last)",
      "Cell \u001b[1;32mIn[4], line 8\u001b[0m\n\u001b[0;32m      6\u001b[0m fast_ws \u001b[39m=\u001b[39m np\u001b[39m.\u001b[39marange(\u001b[39m1\u001b[39m,\u001b[39m10\u001b[39m, \u001b[39m1\u001b[39m)\n\u001b[0;32m      7\u001b[0m fast_sigma \u001b[39m=\u001b[39m np\u001b[39m.\u001b[39marange(\u001b[39m1\u001b[39m, \u001b[39m20\u001b[39m, \u001b[39m1\u001b[39m)\n\u001b[1;32m----> 8\u001b[0m fast_offset \u001b[39m=\u001b[39m np\u001b[39m.\u001b[39;49marange([\u001b[39m0.85\u001b[39;49m, \u001b[39m0.9\u001b[39;49m, \u001b[39m0.95\u001b[39;49m])\n",
      "\u001b[1;31mTypeError\u001b[0m: unsupported operand type(s) for -: 'list' and 'int'"
     ]
    }
   ],
   "source": [
    "# Define a range of window_sizes, sigma, and offset\n",
    "slow_ws = np.arange(10,20, 1)\n",
    "slow_sigma = np.arange(1, 20, 1)\n",
    "slow_offset = np.array([0.85, 0.9, 0.95])\n",
    "\n",
    "fast_ws = np.arange(1,10, 1)\n",
    "fast_sigma = np.arange(1, 20, 1)\n",
    "fast_offset = np.array([0.85, 0.9, 0.95])"
   ]
  },
  {
   "cell_type": "code",
   "execution_count": null,
   "metadata": {},
   "outputs": [],
   "source": [
    "# Backtesting\n",
    "def back_testing(slow_alma_data, fast_alma_data, data):\n",
    "    # Initialize the variables\n",
    "    position = 0\n",
    "    entry_price = 0\n",
    "    exit_price = 0\n",
    "    profit = 0\n",
    "\n",
    "    # Initialize the lists\n",
    "    entry_price_list = []\n",
    "    exit_price_list = []\n",
    "\n",
    "    # Initialize the counters\n",
    "    position_counter = 0\n",
    "    profit_counter = 0\n",
    "\n",
    "    # Initialize the flags\n",
    "    entry_flag = False\n",
    "    exit_flag = False\n",
    "\n",
    "    # Loop through the data (slow_alma_meg, fast_alma_meg, data_meg)\n",
    "    for i, j, k in zip(slow_alma_data, fast_alma_data, data):\n",
    "        # If we are flat\n",
    "        if position == 0:\n",
    "            # If the fast ALMA crosses above the slow ALMA\n",
    "            if j > i:\n",
    "                # Set the entry price\n",
    "                entry_price = k\n",
    "                # Set the entry flag to True\n",
    "                entry_flag = True\n",
    "                # Set the exit flag to False\n",
    "                exit_flag = False\n",
    "                # Set the position to 1\n",
    "                position = 1\n",
    "                # Increment the position counter by 1\n",
    "                position_counter += 1\n",
    "        # If we are long\n",
    "        elif position == 1:\n",
    "            # If the fast ALMA crosses below the slow ALMA\n",
    "            if j < i:\n",
    "                # Set the exit price\n",
    "                exit_price = k\n",
    "                # Set the exit flag to True\n",
    "                exit_flag = True\n",
    "                # Set the entry flag to False\n",
    "                entry_flag = False\n",
    "                # Set the position to 0\n",
    "                position = 0\n",
    "                # Calculate the profit\n",
    "                profit = exit_price - entry_price\n",
    "                # Increment the profit counter by the profit\n",
    "                profit_counter += profit\n",
    "                # Append the entry price to the entry price list\n",
    "                entry_price_list.append(entry_price)\n",
    "                # Append the exit price to the exit price list\n",
    "                exit_price_list.append(exit_price)\n",
    "\n",
    "    return profit_counter"
   ]
  },
  {
   "cell_type": "code",
   "execution_count": null,
   "metadata": {},
   "outputs": [],
   "source": [
    "# Test each combination of window_size, sigma, and offset and find the best combination that yields the highest profit (use the back_testing function)\n",
    "\n",
    "# Initialize the variables\n",
    "best_profit = None\n",
    "best_window_size = None\n",
    "best_sigma = None\n",
    "best_offset = None\n",
    "\n",
    "# Loop through the slow_ws\n",
    "for sws in slow_ws:\n",
    "    # Loop through the slow_sigma\n",
    "    for ss in slow_sigma:\n",
    "        # Loop through the slow_offset\n",
    "        for so in slow_offset:\n",
    "            # Loop through the fast_ws\n",
    "            for fws in fast_ws:\n",
    "                # Loop through the fast_sigma\n",
    "                for fs in fast_sigma:\n",
    "                    # Loop through the fast_offset\n",
    "                    for fo in fast_offset:\n",
    "                        # Calculate the slow ALMA\n",
    "                        slow_alma = alma(closing_prices, sws, ss, so)\n",
    "                        # Calculate the fast ALMA\n",
    "                        fast_alma = alma(closing_prices, fws, fs, fo)\n",
    "                        # Calculate the profit\n",
    "                        profit = back_testing(slow_alma, fast_alma, closing_prices)\n",
    "                        # If the profit is greater than the best profit\n",
    "                        if best_profit is None or profit > best_profit:\n",
    "                            # Set the best profit\n",
    "                            best_profit = profit\n",
    "                            # Set the best window_size\n",
    "                            best_window_size = (sws, fws)\n",
    "                            # Set the best sigma\n",
    "                            best_sigma = (ss, fs)\n",
    "                            # Set the best offset\n",
    "                            best_offset = (so, fo)\n",
    "\n",
    "# Print the best profit, best window_size, best sigma, and best offset\n",
    "print(f'Best Profit: {best_profit}\\nBest Window Size: {best_window_size}, Best Sigma: {best_sigma}, Best Offset: {best_offset}')"
   ]
  }
 ],
 "metadata": {
  "kernelspec": {
   "display_name": "Python 3",
   "language": "python",
   "name": "python3"
  },
  "language_info": {
   "codemirror_mode": {
    "name": "ipython",
    "version": 3
   },
   "file_extension": ".py",
   "mimetype": "text/x-python",
   "name": "python",
   "nbconvert_exporter": "python",
   "pygments_lexer": "ipython3",
   "version": "3.9.10"
  },
  "orig_nbformat": 4
 },
 "nbformat": 4,
 "nbformat_minor": 2
}
